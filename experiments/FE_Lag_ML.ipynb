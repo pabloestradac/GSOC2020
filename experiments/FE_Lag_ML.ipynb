{
 "cells": [
  {
   "cell_type": "markdown",
   "metadata": {},
   "source": [
    "## Spatial Random Effects Panel Model\n",
    "\n",
    "(KKP 2007)"
   ]
  },
  {
   "cell_type": "code",
   "execution_count": 7,
   "metadata": {},
   "outputs": [
    {
     "name": "stdout",
     "output_type": "stream",
     "text": [
      "The autoreload extension is already loaded. To reload it, use:\n",
      "  %reload_ext autoreload\n"
     ]
    }
   ],
   "source": [
    "%load_ext autoreload\n",
    "%autoreload 2\n",
    "\n",
    "import numpy as np\n",
    "import numpy.linalg as la\n",
    "from scipy import sparse as sp\n",
    "from scipy.sparse.linalg import splu as SuperLU\n",
    "from utils import RegressionPropsY, RegressionPropsVM, inverse_prod, set_warn\n",
    "from sputils import spdot, spfill_diagonal, spinv, spbroadcast\n",
    "try:\n",
    "    from scipy.optimize import minimize_scalar\n",
    "    minimize_scalar_available = True\n",
    "except ImportError:\n",
    "    minimize_scalar_available = False\n",
    "\n",
    "import ols as OLS\n",
    "from utils import optim_moments, RegressionPropsY, get_spFilter\n",
    "from utils import spdot, set_warn\n",
    "from panel_utils import check_panel, demean_panel\n",
    "import user_output as USER\n",
    "import summary_output as SUMMARY\n",
    "import regimes as REGI\n",
    "from libpysal import weights"
   ]
  },
  {
   "cell_type": "markdown",
   "metadata": {},
   "source": [
    "### Read data"
   ]
  },
  {
   "cell_type": "code",
   "execution_count": 8,
   "metadata": {},
   "outputs": [],
   "source": [
    "# First import libpysal to load the spatial analysis tools.\n",
    "import libpysal\n",
    "from libpysal.examples import load_example\n",
    "from libpysal.weights import Queen\n",
    "\n",
    "# Open data on NCOVR US County Homicides (3085 areas).\n",
    "nat = load_example('Natregimes')\n",
    "db = libpysal.io.open(nat.get_path('natregimes.dbf'),'r')\n",
    "nat_shp = libpysal.examples.get_path(\"natregimes.shp\")\n",
    "w = Queen.from_shapefile(nat_shp)\n",
    "w.transform = 'r'\n",
    "\n",
    "name_y = ['HR70','HR80','HR90']\n",
    "y = np.array([db.by_col(name) for name in name_y]).T\n",
    "\n",
    "name_x = ['RD70','RD80','RD90','PS70','PS80','PS90']\n",
    "x = np.array([db.by_col(name) for name in name_x]).T\n",
    "\n",
    "method = \"full\"\n",
    "epsilon = 0.0000001"
   ]
  },
  {
   "cell_type": "code",
   "execution_count": 9,
   "metadata": {},
   "outputs": [
    {
     "name": "stdout",
     "output_type": "stream",
     "text": [
      "Warning: Assuming panel is in wide format, i.e. y[:, 0] refers to T0, y[:, 1] refers to T1, etc.\n",
      "Similarly, assuming x[:, 0:T] refers to T periods of k1, x[:, T+1:2T] refers to k2, etc.\n"
     ]
    }
   ],
   "source": [
    "n_rows = USER.check_arrays(y, x)\n",
    "bigy, bigx, name_y, name_x = check_panel(y, x, w, name_y, name_x)"
   ]
  },
  {
   "cell_type": "code",
   "execution_count": 10,
   "metadata": {},
   "outputs": [],
   "source": [
    "n = w.n\n",
    "t = bigy.shape[0] // n\n",
    "k = bigx.shape[1]\n",
    "# Demeaned variables\n",
    "y = demean_panel(bigy, n, t)\n",
    "x = demean_panel(bigx, n, t)\n",
    "# Lag dependent variable\n",
    "W = np.kron(np.identity(t), w.full()[0])\n",
    "Wsp = sp.kron(sp.identity(t), w.sparse)\n",
    "ylag = spdot(W, y)"
   ]
  },
  {
   "cell_type": "code",
   "execution_count": 11,
   "metadata": {},
   "outputs": [],
   "source": [
    "# b0, b1, e0 and e1\n",
    "xtx = spdot(x.T, x)\n",
    "xtxi = la.inv(xtx)\n",
    "xty = spdot(x.T, y)\n",
    "xtyl = spdot(x.T, ylag)\n",
    "b0 = spdot(xtxi, xty)\n",
    "b1 = spdot(xtxi, xtyl)\n",
    "e0 = y - spdot(x, b0)\n",
    "e1 = ylag - spdot(x, b1)\n",
    "methodML = method.upper()"
   ]
  },
  {
   "cell_type": "code",
   "execution_count": 12,
   "metadata": {},
   "outputs": [],
   "source": [
    "def lag_c_loglik(rho, n, t, e0, e1, W):\n",
    "    # concentrated log-lik for lag model, no constants, brute force\n",
    "    er = e0 - rho * e1\n",
    "    sig2 = spdot(er.T, er) / (n*t)\n",
    "    nlsig2 = (n*t / 2.0) * np.log(sig2)\n",
    "    a = -rho * W\n",
    "    spfill_diagonal(a, 1.0)\n",
    "    jacob = t * np.log(np.linalg.det(a))\n",
    "    # this is the negative of the concentrated log lik for minimization\n",
    "    clik = nlsig2 - jacob\n",
    "    return clik"
   ]
  },
  {
   "cell_type": "code",
   "execution_count": 13,
   "metadata": {},
   "outputs": [
    {
     "name": "stderr",
     "output_type": "stream",
     "text": [
      "C:\\Users\\pablo\\anaconda3\\lib\\site-packages\\scipy\\optimize\\_minimize.py:770: RuntimeWarning: Method 'bounded' does not support relative tolerance in x; defaulting to absolute tolerance.\n",
      "  \"defaulting to absolute tolerance.\", RuntimeWarning)\n"
     ]
    },
    {
     "data": {
      "text/plain": [
       "0.10241610744076503"
      ]
     },
     "execution_count": 13,
     "metadata": {},
     "output_type": "execute_result"
    }
   ],
   "source": [
    "res = minimize_scalar(lag_c_loglik, 0.0, bounds=(-1.0, 1.0),\n",
    "                      args=(n, t, e0, e1, W), method='bounded',\n",
    "                      tol=epsilon)\n",
    "\n",
    "rho = res.x[0][0]\n",
    "rho"
   ]
  },
  {
   "cell_type": "code",
   "execution_count": 14,
   "metadata": {},
   "outputs": [],
   "source": [
    "# compute full log-likelihood, including constants\n",
    "ln2pi = np.log(2.0 * np.pi)\n",
    "llik = -res.fun - (n*t) / 2.0 * ln2pi - (n*t) / 2.0\n",
    "logll = llik[0][0]\n",
    "\n",
    "# b, residuals and predicted values\n",
    "\n",
    "b = b0 - rho * b1\n",
    "betas = np.vstack((b, rho))   # rho added as last coefficient\n",
    "u = e0 - rho * e1\n",
    "predy = y - u\n",
    "\n",
    "xb = spdot(x, b)\n",
    "\n",
    "predy_e = inverse_prod(\n",
    "    sp.csr_matrix(W), xb, rho, inv_method=\"power_exp\", threshold=epsilon)\n",
    "e_pred = y - predy_e\n",
    "sig2 = spdot(u.T, u)"
   ]
  },
  {
   "cell_type": "code",
   "execution_count": 15,
   "metadata": {},
   "outputs": [],
   "source": [
    "# information matrix\n",
    "# if w should be kept sparse, how can we do the following:\n",
    "a = -rho * W\n",
    "spfill_diagonal(a, 1.0)\n",
    "ai = spinv(a)\n",
    "wai = spdot(W, ai)\n",
    "tr1 = wai.diagonal().sum() #same for sparse and dense\n",
    "\n",
    "wai2 = spdot(wai, wai)\n",
    "tr2 = wai2.diagonal().sum()\n",
    "\n",
    "waiTwai = spdot(wai.T, wai)\n",
    "tr3 = waiTwai.diagonal().sum()\n",
    "### to here\n",
    "\n",
    "wpredy = W @ predy_e\n",
    "wpyTwpy = spdot(wpredy.T, wpredy)\n",
    "xTwpy = spdot(x.T, wpredy)\n",
    "\n",
    "# order of variables is beta, rho, sigma2\n",
    "\n",
    "v1 = np.vstack(\n",
    "    (xtx / sig2, xTwpy.T / sig2, np.zeros((1, k))))\n",
    "v2 = np.vstack(\n",
    "    (xTwpy / sig2, t*(tr2 + tr3) + wpyTwpy / sig2, t * tr1 / sig2))\n",
    "v3 = np.vstack(\n",
    "    (np.zeros((k, 1)), t * tr1 / sig2, n * t / (2.0 * sig2 ** 2)))\n",
    "\n",
    "v = np.hstack((v1, v2, v3))\n",
    "\n",
    "vm1 = la.inv(v)  # vm1 includes variance for sigma2\n",
    "vm = vm1[:-1, :-1]  # vm is for coefficients only"
   ]
  },
  {
   "cell_type": "code",
   "execution_count": 16,
   "metadata": {},
   "outputs": [
    {
     "name": "stdout",
     "output_type": "stream",
     "text": [
      "(4, 2)\n",
      "(4, 1)\n",
      "(4, 1)\n",
      "(4, 4)\n"
     ]
    }
   ],
   "source": [
    "print(v1.shape)\n",
    "print(v2.shape)\n",
    "print(v3.shape)\n",
    "print(v.shape)"
   ]
  },
  {
   "cell_type": "code",
   "execution_count": 17,
   "metadata": {},
   "outputs": [
    {
     "data": {
      "text/plain": [
       "array([[ 2.42947683e+02,  2.03673981e+02, -2.42252432e-05],\n",
       "       [ 2.03673981e+02,  2.26568340e+03,  1.45645572e-04],\n",
       "       [-2.42252432e-05,  1.45645573e-04,  9.36462823e-05]])"
      ]
     },
     "execution_count": 17,
     "metadata": {},
     "output_type": "execute_result"
    }
   ],
   "source": [
    "vm"
   ]
  },
  {
   "cell_type": "code",
   "execution_count": 18,
   "metadata": {},
   "outputs": [
    {
     "data": {
      "text/plain": [
       "array([[ 0.80898512],\n",
       "       [-2.69017237],\n",
       "       [ 0.10241611]])"
      ]
     },
     "execution_count": 18,
     "metadata": {},
     "output_type": "execute_result"
    }
   ],
   "source": [
    "betas"
   ]
  },
  {
   "cell_type": "code",
   "execution_count": 49,
   "metadata": {},
   "outputs": [
    {
     "data": {
      "text/plain": [
       "array([[3.6644243 ],\n",
       "       [1.34296953],\n",
       "       [0.22554397]])"
      ]
     },
     "execution_count": 49,
     "metadata": {},
     "output_type": "execute_result"
    }
   ],
   "source": [
    "betas"
   ]
  },
  {
   "cell_type": "code",
   "execution_count": null,
   "metadata": {},
   "outputs": [],
   "source": []
  },
  {
   "cell_type": "code",
   "execution_count": null,
   "metadata": {},
   "outputs": [],
   "source": []
  },
  {
   "cell_type": "code",
   "execution_count": null,
   "metadata": {},
   "outputs": [],
   "source": []
  },
  {
   "cell_type": "code",
   "execution_count": null,
   "metadata": {},
   "outputs": [],
   "source": []
  },
  {
   "cell_type": "code",
   "execution_count": null,
   "metadata": {},
   "outputs": [],
   "source": []
  },
  {
   "cell_type": "code",
   "execution_count": null,
   "metadata": {},
   "outputs": [],
   "source": []
  },
  {
   "cell_type": "code",
   "execution_count": null,
   "metadata": {},
   "outputs": [],
   "source": []
  },
  {
   "cell_type": "code",
   "execution_count": null,
   "metadata": {},
   "outputs": [],
   "source": []
  },
  {
   "cell_type": "code",
   "execution_count": null,
   "metadata": {},
   "outputs": [],
   "source": []
  },
  {
   "cell_type": "code",
   "execution_count": null,
   "metadata": {},
   "outputs": [],
   "source": []
  },
  {
   "cell_type": "code",
   "execution_count": 60,
   "metadata": {},
   "outputs": [
    {
     "name": "stdout",
     "output_type": "stream",
     "text": [
      "Warning: Assuming time data is in wide format, i.e. y[:, 0] refersto T0, y[:, 1] refers to T1, etc.\n",
      "Similarly, assumingx[:, 0:T] refers to T periods of k1, x[:, T+1:2T] refersto k2, etc.\n"
     ]
    }
   ],
   "source": [
    "n_rows = USER.check_arrays(y, x)\n",
    "bigy, bigx, name_y, name_x = check_panel(y, x, w, name_y, name_x)\n",
    "USER.check_weights(w, bigy, w_required=True, time=True)\n",
    "x_constant, name_x, warn = USER.check_constant(bigx,name_x)\n",
    "# set_warn(warn)\n",
    "title = \"GM SPATIAL ERROR PANEL MODEL - RANDOM EFFECTS (KKP)\"\n",
    "name_x = USER.set_name_x(name_x, x_constant)\n",
    "regimes=None\n",
    "name_regimes=None\n",
    "if regimes is not None:\n",
    "    regimes = regimes\n",
    "    name_regimes = USER.set_name_ds(name_regimes)\n",
    "    regimes_l = _set_regimes(w, bigy.shape[0])\n",
    "    name_x_r = name_x\n",
    "    x_constant, name_x = REGI.Regimes_Frame.__init__(x_constant, regimes_l, constant_regi=False, \n",
    "                                                          cols2regi='all', names=name_x)\n"
   ]
  },
  {
   "cell_type": "code",
   "execution_count": 3,
   "metadata": {
    "jupyter": {
     "source_hidden": true
    }
   },
   "outputs": [],
   "source": [
    "def _moments_kkp(ws, u, i, trace_w2=None):\n",
    "    '''\n",
    "    Compute G and g matrices for the KKP model.\n",
    "    ...\n",
    "\n",
    "    Parameters\n",
    "    ----------\n",
    "\n",
    "    ws          : Sparse matrix\n",
    "                  Spatial weights sparse matrix   \n",
    "\n",
    "    u           : array\n",
    "                  Residuals. nx1 array assumed to be aligned with w\n",
    "    \n",
    "    i\t\t    : integer\n",
    "                  0 if Q0, 1 if Q1\n",
    "    trace_w2    : float\n",
    "                  trace of WW. Computed in 1st step and saved for step 2.\n",
    "\n",
    "    Returns\n",
    "    -------\n",
    "\n",
    "    moments     : list\n",
    "                  List of two arrays corresponding to the matrices 'G' and\n",
    "                  'g', respectively.\n",
    "    trace_w2    : float\n",
    "                  trace of WW. Computed in 1st step and saved for step 2.\n",
    "\n",
    "    '''\n",
    "    N = ws.shape[0]\n",
    "    T = u.shape[0]//N\n",
    "    if i == 0:\n",
    "        Q = SP.kron(SP.identity(T) - np.ones((T,T))/T,SP.identity(N))\n",
    "    else:\n",
    "        Q = SP.kron(np.ones((T,T))/T,SP.identity(N))\n",
    "    Tw = SP.kron(SP.identity(T),ws)\n",
    "    ub = Tw.dot(u)\n",
    "    ubb = Tw.dot(ub)\n",
    "    Qu = Q.dot(u)\n",
    "    Qub = Q.dot(ub)\n",
    "    Qubb = Q.dot(ubb)\n",
    "    G11 = float(2*np.dot(u.T,Qub))\n",
    "    G12 = float(-np.dot(ub.T,Qub))\n",
    "    G21 = float(2*np.dot(ubb.T,Qub))\n",
    "    G22 = float(-np.dot(ubb.T,Qubb))\n",
    "    G31 = float(np.dot(u.T,Qubb)+np.dot(ub.T,Qub))\n",
    "    G32 = float(-np.dot(ub.T,Qubb))\n",
    "    if trace_w2 == None:\n",
    "        trace_w2 = (ws.power(2)).sum()\n",
    "    G23 = ((T-1)**(1-i))*trace_w2\n",
    "    if i == 0:\n",
    "        G = np.array([[G11,G12,N*(T-1)**(1-i)],[G21,G22,G23],[G31,G32,0]])/(N*(T-1)**(1-i))\n",
    "    else:\n",
    "        G = np.array([[G11,G12,0,N*(T-1)**(1-i)],[G21,G22,0,G23],[G31,G32,0,0]])/(N*(T-1)**(1-i))\n",
    "    g1 = float(np.dot(u.T,Qu))\n",
    "    g2 = float(np.dot(ub.T,Qub))    \n",
    "    g3 = float(np.dot(u.T,Qub))\n",
    "    g = np.array([[g1,g2,g3]]).T / (N*(T-1)**(1-i))                            \n",
    "    return [G, g], trace_w2"
   ]
  },
  {
   "cell_type": "code",
   "execution_count": 4,
   "metadata": {
    "jupyter": {
     "source_hidden": true
    }
   },
   "outputs": [],
   "source": [
    "def _get_Tau(ws, trace_w2):\n",
    "    '''\n",
    "    Computes Tau as in :cite:`KKP2007`.\n",
    "    ...\n",
    "    \n",
    "    Parameters\n",
    "    ----------\n",
    "    ws          : Sparse matrix\n",
    "                  Spatial weights sparse matrix   \n",
    "    trace_w2    : float\n",
    "                  trace of WW. Computed in 1st step of _moments_kkp\n",
    "    '''\n",
    "    N = ws.shape[0]\n",
    "    T12 = 2*trace_w2/N\n",
    "    wtw = ws.T.dot(ws)\n",
    "    T22 = wtw.power(2).sum()\n",
    "    wtpw = ws.T + ws\n",
    "    T23 = wtw.multiply(wtpw).sum()\n",
    "    d_wwpwtw = ws.multiply(ws.T).sum(0)+wtw.diagonal()\n",
    "    T33 = d_wwpwtw.sum()\n",
    "    Tau = np.array([[2*N,T12,0],[T12,T22,T23],[0,T23,T33]])/N\n",
    "    return Tau"
   ]
  },
  {
   "cell_type": "code",
   "execution_count": null,
   "metadata": {},
   "outputs": [],
   "source": []
  },
  {
   "cell_type": "code",
   "execution_count": 19,
   "metadata": {},
   "outputs": [],
   "source": [
    "ols = OLS.BaseOLS(y=y, x=x)\n",
    "x, y, n, k, xtx = ols.x, ols.y, ols.n, ols.k, ols.xtx\n",
    "N = w.n\n",
    "T = y.shape[0]//N"
   ]
  },
  {
   "cell_type": "code",
   "execution_count": 20,
   "metadata": {},
   "outputs": [
    {
     "ename": "TypeError",
     "evalue": "only size-1 arrays can be converted to Python scalars",
     "output_type": "error",
     "traceback": [
      "\u001b[1;31m---------------------------------------------------------------------------\u001b[0m",
      "\u001b[1;31mTypeError\u001b[0m                                 Traceback (most recent call last)",
      "\u001b[1;32m<ipython-input-20-a4c356130d27>\u001b[0m in \u001b[0;36m<module>\u001b[1;34m\u001b[0m\n\u001b[1;32m----> 1\u001b[1;33m \u001b[0mmoments\u001b[0m\u001b[1;33m,\u001b[0m \u001b[0mtrace_w2\u001b[0m \u001b[1;33m=\u001b[0m \u001b[0m_moments_kkp\u001b[0m\u001b[1;33m(\u001b[0m\u001b[0mw\u001b[0m\u001b[1;33m.\u001b[0m\u001b[0msparse\u001b[0m\u001b[1;33m,\u001b[0m \u001b[0mols\u001b[0m\u001b[1;33m.\u001b[0m\u001b[0mu\u001b[0m\u001b[1;33m,\u001b[0m \u001b[1;36m0\u001b[0m\u001b[1;33m)\u001b[0m\u001b[1;33m\u001b[0m\u001b[1;33m\u001b[0m\u001b[0m\n\u001b[0m\u001b[0;32m      2\u001b[0m \u001b[0mlambda1\u001b[0m\u001b[1;33m,\u001b[0m \u001b[0msig_v\u001b[0m \u001b[1;33m=\u001b[0m \u001b[0moptim_moments\u001b[0m\u001b[1;33m(\u001b[0m\u001b[0mmoments\u001b[0m\u001b[1;33m,\u001b[0m \u001b[0mall_par\u001b[0m\u001b[1;33m=\u001b[0m\u001b[1;32mTrue\u001b[0m\u001b[1;33m)\u001b[0m\u001b[1;33m\u001b[0m\u001b[1;33m\u001b[0m\u001b[0m\n",
      "\u001b[1;32m<ipython-input-15-4ffce6c97fd9>\u001b[0m in \u001b[0;36m_moments_kkp\u001b[1;34m(ws, u, i, trace_w2)\u001b[0m\n\u001b[0;32m     40\u001b[0m     \u001b[0mQub\u001b[0m \u001b[1;33m=\u001b[0m \u001b[0mQ\u001b[0m\u001b[1;33m.\u001b[0m\u001b[0mdot\u001b[0m\u001b[1;33m(\u001b[0m\u001b[0mub\u001b[0m\u001b[1;33m)\u001b[0m\u001b[1;33m\u001b[0m\u001b[1;33m\u001b[0m\u001b[0m\n\u001b[0;32m     41\u001b[0m     \u001b[0mQubb\u001b[0m \u001b[1;33m=\u001b[0m \u001b[0mQ\u001b[0m\u001b[1;33m.\u001b[0m\u001b[0mdot\u001b[0m\u001b[1;33m(\u001b[0m\u001b[0mubb\u001b[0m\u001b[1;33m)\u001b[0m\u001b[1;33m\u001b[0m\u001b[1;33m\u001b[0m\u001b[0m\n\u001b[1;32m---> 42\u001b[1;33m     \u001b[0mG11\u001b[0m \u001b[1;33m=\u001b[0m \u001b[0mfloat\u001b[0m\u001b[1;33m(\u001b[0m\u001b[1;36m2\u001b[0m\u001b[1;33m*\u001b[0m\u001b[0mnp\u001b[0m\u001b[1;33m.\u001b[0m\u001b[0mdot\u001b[0m\u001b[1;33m(\u001b[0m\u001b[0mu\u001b[0m\u001b[1;33m.\u001b[0m\u001b[0mT\u001b[0m\u001b[1;33m,\u001b[0m\u001b[0mQub\u001b[0m\u001b[1;33m)\u001b[0m\u001b[1;33m)\u001b[0m\u001b[1;33m\u001b[0m\u001b[1;33m\u001b[0m\u001b[0m\n\u001b[0m\u001b[0;32m     43\u001b[0m     \u001b[0mG12\u001b[0m \u001b[1;33m=\u001b[0m \u001b[0mfloat\u001b[0m\u001b[1;33m(\u001b[0m\u001b[1;33m-\u001b[0m\u001b[0mnp\u001b[0m\u001b[1;33m.\u001b[0m\u001b[0mdot\u001b[0m\u001b[1;33m(\u001b[0m\u001b[0mub\u001b[0m\u001b[1;33m.\u001b[0m\u001b[0mT\u001b[0m\u001b[1;33m,\u001b[0m\u001b[0mQub\u001b[0m\u001b[1;33m)\u001b[0m\u001b[1;33m)\u001b[0m\u001b[1;33m\u001b[0m\u001b[1;33m\u001b[0m\u001b[0m\n\u001b[0;32m     44\u001b[0m     \u001b[0mG21\u001b[0m \u001b[1;33m=\u001b[0m \u001b[0mfloat\u001b[0m\u001b[1;33m(\u001b[0m\u001b[1;36m2\u001b[0m\u001b[1;33m*\u001b[0m\u001b[0mnp\u001b[0m\u001b[1;33m.\u001b[0m\u001b[0mdot\u001b[0m\u001b[1;33m(\u001b[0m\u001b[0mubb\u001b[0m\u001b[1;33m.\u001b[0m\u001b[0mT\u001b[0m\u001b[1;33m,\u001b[0m\u001b[0mQub\u001b[0m\u001b[1;33m)\u001b[0m\u001b[1;33m)\u001b[0m\u001b[1;33m\u001b[0m\u001b[1;33m\u001b[0m\u001b[0m\n",
      "\u001b[1;31mTypeError\u001b[0m: only size-1 arrays can be converted to Python scalars"
     ]
    }
   ],
   "source": [
    "moments, trace_w2 = _moments_kkp(w.sparse, ols.u, 0)\n",
    "lambda1, sig_v = optim_moments(moments, all_par=True)"
   ]
  },
  {
   "cell_type": "code",
   "execution_count": 22,
   "metadata": {},
   "outputs": [
    {
     "data": {
      "text/plain": [
       "(3085, 6)"
      ]
     },
     "execution_count": 22,
     "metadata": {},
     "output_type": "execute_result"
    }
   ],
   "source": [
    "x.shape"
   ]
  },
  {
   "cell_type": "code",
   "execution_count": null,
   "metadata": {},
   "outputs": [],
   "source": []
  },
  {
   "cell_type": "code",
   "execution_count": 36,
   "metadata": {},
   "outputs": [],
   "source": [
    "N = w.n\n",
    "T = bigy.shape[0] // N\n",
    "k = bigx.shape[1]\n",
    "# Demeaned variables\n",
    "ymean = bigy.reshape((N, T)).mean(axis=1)\n",
    "bigy_dm = bigy - np.tile(ymean, T)[:, None]\n",
    "xmean = bigx[:, 0].reshape((N, T)).mean(axis=1)[:, None]\n",
    "for i in range(1, k):\n",
    "    xmeani = bigx[:, i].reshape((N, T)).mean(axis=1)\n",
    "    xmean = np.hstack((xmean, xmeani[:, None]))\n",
    "bigx_dm = bigx - np.tile(xmean, (T, 1))\n",
    "# Lag dependent variable\n",
    "bigW = np.kron(np.identity(T), w.full()[0])\n",
    "bigylag = bigW @ bigy"
   ]
  }
 ],
 "metadata": {
  "kernelspec": {
   "display_name": "Python 3",
   "language": "python",
   "name": "python3"
  },
  "language_info": {
   "codemirror_mode": {
    "name": "ipython",
    "version": 3
   },
   "file_extension": ".py",
   "mimetype": "text/x-python",
   "name": "python",
   "nbconvert_exporter": "python",
   "pygments_lexer": "ipython3",
   "version": "3.7.6"
  }
 },
 "nbformat": 4,
 "nbformat_minor": 4
}
