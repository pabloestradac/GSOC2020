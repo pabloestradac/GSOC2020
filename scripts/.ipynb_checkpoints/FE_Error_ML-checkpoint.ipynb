{
 "cells": [
  {
   "cell_type": "code",
   "execution_count": 5,
   "metadata": {},
   "outputs": [
    {
     "name": "stdout",
     "output_type": "stream",
     "text": [
      "The autoreload extension is already loaded. To reload it, use:\n",
      "  %reload_ext autoreload\n"
     ]
    }
   ],
   "source": [
    "%load_ext autoreload\n",
    "%autoreload 2\n",
    "\n",
    "import numpy as np\n",
    "import numpy.linalg as la\n",
    "from scipy import sparse as sp\n",
    "from scipy.sparse.linalg import splu as SuperLU\n",
    "\n",
    "from utils import RegressionPropsY, RegressionPropsVM\n",
    "from sputils import spdot, spfill_diagonal, spinv, spbroadcast\n",
    "import diagnostics as DIAG\n",
    "import user_output as USER\n",
    "import summary_output as SUMMARY\n",
    "import regimes as REGI\n",
    "from w_utils import symmetrize\n",
    "import libpysal\n",
    "from libpysal import weights\n",
    "from panel_utils import check_panel, demean_panel\n",
    "try:\n",
    "    from scipy.optimize import minimize_scalar\n",
    "    minimize_scalar_available = True\n",
    "except ImportError:\n",
    "    minimize_scalar_available = False"
   ]
  },
  {
   "cell_type": "code",
   "execution_count": 6,
   "metadata": {},
   "outputs": [],
   "source": [
    "# First import libpysal to load the spatial analysis tools.\n",
    "import libpysal\n",
    "from libpysal.examples import load_example\n",
    "from libpysal.weights import Queen\n",
    "\n",
    "# Open data on NCOVR US County Homicides (3085 areas).\n",
    "nat = load_example('Natregimes')\n",
    "db = libpysal.io.open(nat.get_path('natregimes.dbf'),'r')\n",
    "nat_shp = libpysal.examples.get_path(\"natregimes.shp\")\n",
    "w = Queen.from_shapefile(nat_shp)\n",
    "w.transform = 'r'\n",
    "\n",
    "name_y = ['HR70','HR80','HR90']\n",
    "y = np.array([db.by_col(name) for name in name_y]).T\n",
    "\n",
    "name_x = ['RD70','RD80','RD90','PS70','PS80','PS90']\n",
    "x = np.array([db.by_col(name) for name in name_x]).T\n",
    "\n",
    "method = \"full\"\n",
    "epsilon = 0.0000001\n",
    "regimes_att = None"
   ]
  },
  {
   "cell_type": "code",
   "execution_count": 8,
   "metadata": {},
   "outputs": [
    {
     "name": "stdout",
     "output_type": "stream",
     "text": [
      "Warning: Assuming panel is in wide format, i.e. y[:, 0] refers to T0, y[:, 1] refers to T1, etc.\n",
      "Similarly, assuming x[:, 0:T] refers to T periods of k1, x[:, T+1:2T] refers to k2, etc.\n"
     ]
    }
   ],
   "source": [
    "bigy, bigx, name_y, name_x = check_panel(y, x, w, name_y, name_x)\n",
    "n = w.n\n",
    "t = bigy.shape[0] // n\n",
    "k = bigx.shape[1]"
   ]
  },
  {
   "cell_type": "code",
   "execution_count": 14,
   "metadata": {},
   "outputs": [],
   "source": [
    "rho1 = 0.1\n",
    "rho2 = 0.2\n",
    "sig2mu = 0.5\n",
    "sig2v = 1\n",
    "\n",
    "xtx = spdot(x.T, x)\n",
    "xtxi = la.inv(xtx)\n",
    "xty = spdot(x.T, y)\n",
    "beta = spdot(xtxi, xty)\n",
    "u = y - spdot(x, beta)\n",
    "\n",
    "I = np.identity(n)\n",
    "W = w.full()[0]\n",
    "A = I - rho1 * W\n",
    "B = I - rho2 * W\n",
    "\n",
    "Jt = np.ones((t, t)) / t\n",
    "Et = np.identity(t) - Jt\n",
    "AtA = spdot(A.T, A)\n",
    "AtAi = la.inv(AtA)\n",
    "BtB = spdot(B.T, B)\n",
    "BtBi = la.inv(BtB)\n",
    "Omu = np.kron(Jt, (t*sig2mu*AtAi + sig2v*BtBi))\n",
    "\n",
    "\n",
    "\n"
   ]
  },
  {
   "cell_type": "code",
   "execution_count": null,
   "metadata": {},
   "outputs": [],
   "source": []
  },
  {
   "cell_type": "code",
   "execution_count": 11,
   "metadata": {},
   "outputs": [
    {
     "data": {
      "text/plain": [
       "array([[ 1.        ,  0.        ,  0.        , ...,  0.        ,\n",
       "         0.        ,  0.        ],\n",
       "       [ 0.        ,  1.        , -0.03333333, ...,  0.        ,\n",
       "         0.        ,  0.        ],\n",
       "       [ 0.        , -0.025     ,  1.        , ...,  0.        ,\n",
       "         0.        ,  0.        ],\n",
       "       ...,\n",
       "       [ 0.        ,  0.        ,  0.        , ...,  1.        ,\n",
       "         0.        ,  0.        ],\n",
       "       [ 0.        ,  0.        ,  0.        , ...,  0.        ,\n",
       "         1.        ,  0.        ],\n",
       "       [ 0.        ,  0.        ,  0.        , ...,  0.        ,\n",
       "         0.        ,  1.        ]])"
      ]
     },
     "execution_count": 11,
     "metadata": {},
     "output_type": "execute_result"
    }
   ],
   "source": [
    "A"
   ]
  },
  {
   "cell_type": "code",
   "execution_count": null,
   "metadata": {},
   "outputs": [],
   "source": [
    "ylag = weights.lag_spatial(w, self.y)\n",
    "xlag = self.get_x_lag(w, regimes_att)\n",
    "\n"
   ]
  },
  {
   "cell_type": "code",
   "execution_count": null,
   "metadata": {},
   "outputs": [],
   "source": []
  },
  {
   "cell_type": "code",
   "execution_count": null,
   "metadata": {},
   "outputs": [],
   "source": [
    "def err_c_loglik(lam, n, y, ylag, x, xlag, W):\n",
    "    # concentrated log-lik for error model, no constants, brute force\n",
    "    ys = y - lam * ylag\n",
    "    xs = x - lam * xlag\n",
    "    ysys = np.dot(ys.T, ys)\n",
    "    xsxs = np.dot(xs.T, xs)\n",
    "    xsxsi = np.linalg.inv(xsxs)\n",
    "    xsys = np.dot(xs.T, ys)\n",
    "    x1 = np.dot(xsxsi, xsys)\n",
    "    x2 = np.dot(xsys.T, x1)\n",
    "    ee = ysys - x2\n",
    "    sig2 = ee[0][0] / n\n",
    "    nlsig2 = (n / 2.0) * np.log(sig2)\n",
    "    a = -lam * W\n",
    "    np.fill_diagonal(a, 1.0)\n",
    "    jacob = np.log(np.linalg.det(a))\n",
    "    # this is the negative of the concentrated log lik for minimization\n",
    "    clik = nlsig2 - jacob\n",
    "    return clik"
   ]
  }
 ],
 "metadata": {
  "kernelspec": {
   "display_name": "Python 3",
   "language": "python",
   "name": "python3"
  },
  "language_info": {
   "codemirror_mode": {
    "name": "ipython",
    "version": 3
   },
   "file_extension": ".py",
   "mimetype": "text/x-python",
   "name": "python",
   "nbconvert_exporter": "python",
   "pygments_lexer": "ipython3",
   "version": "3.7.6"
  }
 },
 "nbformat": 4,
 "nbformat_minor": 4
}
