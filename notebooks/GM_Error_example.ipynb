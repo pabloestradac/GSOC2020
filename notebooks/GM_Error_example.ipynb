{
 "cells": [
  {
   "cell_type": "markdown",
   "metadata": {},
   "source": [
    "# Spatial GM/GMM Error\n",
    "\n",
    "This notebook contains the PySAL/spreg code for Chapter 9 - GM/GMM Error\n",
    "\n",
    "in Modern Spatial Econometrics in Practice: A Guide to GeoDa, GeoDaSpace and PySAL.\n",
    "\n",
    "by Luc Anselin and Sergio J. Rey\n",
    "\n",
    "(c) 2014 Luc Anselin and Sergio J. Rey, All Rights Reserved"
   ]
  },
  {
   "cell_type": "code",
   "execution_count": 1,
   "metadata": {},
   "outputs": [],
   "source": [
    "import numpy as np\n",
    "import libpysal as ps\n",
    "from spreg import GM_Error"
   ]
  },
  {
   "cell_type": "code",
   "execution_count": 14,
   "metadata": {},
   "outputs": [
    {
     "data": {
      "text/html": [
       "\n",
       "        <iframe\n",
       "            width=\"700\"\n",
       "            height=\"350\"\n",
       "            src=\"https://geodacenter.github.io/data-and-lab/south/\"\n",
       "            frameborder=\"0\"\n",
       "            allowfullscreen\n",
       "        ></iframe>\n",
       "        "
      ],
      "text/plain": [
       "<IPython.lib.display.IFrame at 0x21b137f6e08>"
      ]
     },
     "execution_count": 14,
     "metadata": {},
     "output_type": "execute_result"
    }
   ],
   "source": [
    "south = ps.examples.load_example(\"South\")\n",
    "ps.examples.explain(\"South\")"
   ]
  },
  {
   "cell_type": "code",
   "execution_count": 17,
   "metadata": {},
   "outputs": [],
   "source": [
    "# Read South data\n",
    "db = south.load(\"south.dbf\")\n",
    "\n",
    "# Read dependent variable\n",
    "y_name = \"HR90\"\n",
    "y = np.array(db.by_col(y_name)).T\n",
    "y = y[:, np.newaxis]\n",
    "\n",
    "# Read exogenous variables\n",
    "x_names = [\"RD90\", \"PS90\", \"UE90\", \"DV90\"]\n",
    "x = np.array([db.by_col(var) for var in x_names]).T"
   ]
  },
  {
   "cell_type": "code",
   "execution_count": 21,
   "metadata": {},
   "outputs": [],
   "source": [
    "# Read spatial data\n",
    "shp = south.load(\"south.shp\")\n",
    "w = ps.weights.Queen(shp)\n",
    "w.transform = \"r\""
   ]
  },
  {
   "cell_type": "markdown",
   "metadata": {},
   "source": [
    "## Basic Spatial 2SLS"
   ]
  },
  {
   "cell_type": "code",
   "execution_count": 23,
   "metadata": {},
   "outputs": [
    {
     "name": "stdout",
     "output_type": "stream",
     "text": [
      "REGRESSION\n",
      "----------\n",
      "SUMMARY OF OUTPUT: SPATIALLY WEIGHTED LEAST SQUARES\n",
      "---------------------------------------------------\n",
      "Data set            :   south.dbf\n",
      "Weights matrix      :     south_q\n",
      "Dependent Variable  :        HR90                Number of Observations:        1412\n",
      "Mean dependent var  :      9.5493                Number of Variables   :           5\n",
      "S.D. dependent var  :      7.0389                Degrees of Freedom    :        1407\n",
      "Pseudo R-squared    :      0.3066\n",
      "\n",
      "------------------------------------------------------------------------------------\n",
      "            Variable     Coefficient       Std.Error     z-Statistic     Probability\n",
      "------------------------------------------------------------------------------------\n",
      "            CONSTANT       6.3386537       1.0155422       6.2416445       0.0000000\n",
      "                RD90       4.4326518       0.2318185      19.1212180       0.0000000\n",
      "                PS90       1.8133531       0.2105237       8.6135328       0.0000000\n",
      "                UE90      -0.3985616       0.0772012      -5.1626346       0.0000002\n",
      "                DV90       0.4777216       0.1203677       3.9688512       0.0000722\n",
      "              lambda       0.2604090    \n",
      "------------------------------------------------------------------------------------\n",
      "================================ END OF REPORT =====================================\n"
     ]
    }
   ],
   "source": [
    "model = GM_Error(y, x, w, name_y=y_name, name_x=x_names,\n",
    "                 name_w=\"south_q\", name_ds=\"south.dbf\")\n",
    "print(model.summary)"
   ]
  },
  {
   "cell_type": "code",
   "execution_count": 24,
   "metadata": {},
   "outputs": [],
   "source": [
    "# using second order spatial lags for the instruments, set w_lags = 2\n",
    "# model2 = GM_Lag(y, x, w=w, w_lags=2, name_y=y_name, name_x=x_names,\n",
    "#                name_w=\"baltim_q\", name_ds=\"baltim\")\n",
    "# print(model2.summary)"
   ]
  },
  {
   "cell_type": "markdown",
   "metadata": {},
   "source": [
    "## Spatial Diagnostics"
   ]
  },
  {
   "cell_type": "code",
   "execution_count": 25,
   "metadata": {},
   "outputs": [],
   "source": [
    "# model = GM_Lag(y, x, w=w, spat_diag=True, name_y=y_name, name_x=x_names,\n",
    "#                name_w=\"baltim_q\", name_ds=\"baltim\")\n",
    "# print(model.summary)"
   ]
  },
  {
   "cell_type": "markdown",
   "metadata": {},
   "source": [
    "## White Standard Errors"
   ]
  },
  {
   "cell_type": "code",
   "execution_count": 26,
   "metadata": {},
   "outputs": [],
   "source": [
    "# model = GM_Lag(y, x, w=w, robust=\"white\",\n",
    "#                spat_diag=True, name_y=y_name, name_x=x_names,\n",
    "#                name_w=\"baltim_q\", name_ds=\"baltim\")\n",
    "# print(model.summary)"
   ]
  },
  {
   "cell_type": "code",
   "execution_count": null,
   "metadata": {},
   "outputs": [],
   "source": []
  }
 ],
 "metadata": {
  "kernelspec": {
   "display_name": "Python 3",
   "language": "python",
   "name": "python3"
  },
  "language_info": {
   "codemirror_mode": {
    "name": "ipython",
    "version": 3
   },
   "file_extension": ".py",
   "mimetype": "text/x-python",
   "name": "python",
   "nbconvert_exporter": "python",
   "pygments_lexer": "ipython3",
   "version": "3.7.6"
  },
  "toc": {
   "base_numbering": 1,
   "nav_menu": {
    "height": "103px",
    "width": "212px"
   },
   "number_sections": true,
   "sideBar": true,
   "skip_h1_title": false,
   "title_cell": "Table of Contents",
   "title_sidebar": "Contents",
   "toc_cell": false,
   "toc_position": {},
   "toc_section_display": true,
   "toc_window_display": false
  }
 },
 "nbformat": 4,
 "nbformat_minor": 4
}
