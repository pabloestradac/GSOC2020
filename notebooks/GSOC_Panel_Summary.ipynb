{
 "cells": [
  {
   "cell_type": "markdown",
   "metadata": {},
   "source": [
    "# GSoC 2020 - Panel Data Spatial Econometrics"
   ]
  },
  {
   "cell_type": "markdown",
   "metadata": {},
   "source": [
    "This notebook summarize the work of the [PySAL Project on Panel Data Spatial Econometrics](https://summerofcode.withgoogle.com/projects/#6472262816890880). The work is divided in the following sections. First, I explain the utilities used to handle panel data in `spreg`. Second, I show the diagnostics implemented for spatial - panel estimations. Finally, I detail the different models that can be estimated. \n",
    "\n",
    "The notebook [Panel_example.ipynb](https://github.com/pabloestradac/GSOC2020/blob/master/notebooks/Panel_example.ipynb) offers an overview of the new estimations that can be useful from the user perspective. "
   ]
  },
  {
   "cell_type": "markdown",
   "metadata": {},
   "source": [
    "## Utilities"
   ]
  },
  {
   "cell_type": "markdown",
   "metadata": {},
   "source": [
    "The utilities for the panel data estimation are located in the file `panel_utils.py`.\n",
    "\n",
    "- The function `check_panel` handles the structure of the panel data in the estimations of `spreg`. This function converts a panel from wide to long format if needed.\n",
    "\n",
    "- The function `demean_panel` transforms the variables for the estimations of `spreg`. The transformation assigns a weight from 0 to 1 attached to the cross-sectional component of the data."
   ]
  },
  {
   "cell_type": "markdown",
   "metadata": {},
   "source": [
    "## Diagnostics"
   ]
  },
  {
   "cell_type": "markdown",
   "metadata": {},
   "source": [
    "Diagnostic statistics for the panel data estimation are located in the file `diagnostics_panel.py`.\n",
    "\n",
    "- **Lagrange Multiplier test:** functions that calculate the classic Lagrange Multiplier test and the robust version for spatial lag and error specifications.\n",
    "\n",
    "- **Hausman test:** functions to test fixed vs. random effects specifications."
   ]
  },
  {
   "cell_type": "markdown",
   "metadata": {},
   "source": [
    "## Estimation"
   ]
  },
  {
   "cell_type": "markdown",
   "metadata": {},
   "source": [
    "The four basic estimations of panel data with spatial interactions are located in the files `panel_fe.py` and `panel_re.py`.\n",
    "\n",
    "- `panel_fe.py`\n",
    "\n",
    "    - **Panel_FE_Lag:** Fixed Effects estimation with spatial lagged dependent variable.\n",
    "\n",
    "    - **Panel_FE_Error:** Fixed Effects estimation with spatial error interaction.\n",
    "\n",
    "- `panel_re.py`\n",
    "\n",
    "    - **Panel_RE_Lag:** Random Effects estimation with spatial lagged dependent variable.\n",
    "\n",
    "    - **Panel_RE_Error:** Random Effects estimation with spatial error interaction.\n",
    "    \n",
    "The step by step explanation of the preceding estimations can be found on the notebooks:\n",
    "- [FE_Lag_scratch.ipynb](https://github.com/pabloestradac/GSOC2020/blob/master/notebooks/FE_Lag_scratch.ipynb)\n",
    "- [FE_Error_scratch.ipynb](https://github.com/pabloestradac/GSOC2020/blob/master/notebooks/FE_Error_scratch.ipynb)\n",
    "- [RE_Lag_scratch.ipynb](https://github.com/pabloestradac/GSOC2020/blob/master/notebooks/RE_Lag_scratch.ipynb)\n",
    "- [RE_Error_scratch.ipynb](https://github.com/pabloestradac/GSOC2020/blob/master/notebooks/RE_Error_scratch.ipynb)\n",
    "\n",
    "Finally, all the work can be found in the following pull requests:\n",
    "- [Random Effects Panel #50](https://github.com/pysal/spreg/pull/50)\n",
    "- [Fixed Effects Panel - Spatial Error #45](https://github.com/pysal/spreg/pull/45)\n",
    "- [Fixed Effects Panel - Spatial Lag #41](https://github.com/pysal/spreg/pull/41)"
   ]
  },
  {
   "cell_type": "markdown",
   "metadata": {},
   "source": [
    "## Future Work"
   ]
  },
  {
   "cell_type": "markdown",
   "metadata": {},
   "source": [
    "There are three issues outside the scope of the original project that is considered for future work:\n",
    "- POLS class for Pooled OLS regresion of panel data.\n",
    "- Add the diagnostics tests at the end of POLS summary.\n",
    "- Lee-Yu bias correction for fixed effects estimation."
   ]
  }
 ],
 "metadata": {
  "kernelspec": {
   "display_name": "Python 3",
   "language": "python",
   "name": "python3"
  },
  "language_info": {
   "codemirror_mode": {
    "name": "ipython",
    "version": 3
   },
   "file_extension": ".py",
   "mimetype": "text/x-python",
   "name": "python",
   "nbconvert_exporter": "python",
   "pygments_lexer": "ipython3",
   "version": "3.7.6"
  }
 },
 "nbformat": 4,
 "nbformat_minor": 4
}
