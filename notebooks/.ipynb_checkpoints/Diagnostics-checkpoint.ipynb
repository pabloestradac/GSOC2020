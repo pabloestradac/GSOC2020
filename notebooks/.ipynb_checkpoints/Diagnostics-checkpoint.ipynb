{
 "cells": [
  {
   "cell_type": "code",
   "execution_count": 1,
   "metadata": {},
   "outputs": [],
   "source": [
    "%load_ext autoreload\n",
    "%autoreload 2\n",
    "\n",
    "import numpy as np\n",
    "import pandas as pd\n",
    "import libpysal\n",
    "import spreg\n",
    "\n",
    "np.set_printoptions(suppress=True)"
   ]
  },
  {
   "cell_type": "code",
   "execution_count": 2,
   "metadata": {},
   "outputs": [],
   "source": [
    "df_w = pd.read_excel(\"data/Spat-Sym-US.xls\", header=None)\n",
    "df = pd.read_excel(\"data/cigardemo.xls\")"
   ]
  },
  {
   "cell_type": "code",
   "execution_count": 3,
   "metadata": {},
   "outputs": [],
   "source": [
    "from libpysal.weights import full2W\n",
    "\n",
    "name_y = [\"logc\"]\n",
    "y = df[name_y].values\n",
    "\n",
    "name_x = [\"logp\", \"logpn\", \"logy\"]\n",
    "x = df[name_x].values\n",
    "\n",
    "w = full2W(df_w.values)\n",
    "w.transform = 'r'\n",
    "\n",
    "epsilon = 0.0000001"
   ]
  },
  {
   "cell_type": "code",
   "execution_count": 4,
   "metadata": {},
   "outputs": [
    {
     "name": "stdout",
     "output_type": "stream",
     "text": [
      "REGRESSION\n",
      "----------\n",
      "SUMMARY OF OUTPUT: ORDINARY LEAST SQUARES\n",
      "-----------------------------------------\n",
      "Data set            :     unknown\n",
      "Weights matrix      :        None\n",
      "Dependent Variable  :     dep_var                Number of Observations:         276\n",
      "Mean dependent var  :      4.7985                Number of Variables   :           4\n",
      "S.D. dependent var  :      0.2269                Degrees of Freedom    :         272\n",
      "R-squared           :      0.3861\n",
      "Adjusted R-squared  :      0.3794\n",
      "Sum squared residual:       8.693                F-statistic           :     57.0313\n",
      "Sigma-square        :       0.032                Prob(F-statistic)     :   1.242e-28\n",
      "S.E. of regression  :       0.179                Log likelihood        :      85.555\n",
      "Sigma-square ML     :       0.031                Akaike info criterion :    -163.109\n",
      "S.E of regression ML:      0.1775                Schwarz criterion     :    -148.628\n",
      "\n",
      "------------------------------------------------------------------------------------\n",
      "            Variable     Coefficient       Std.Error     t-Statistic     Probability\n",
      "------------------------------------------------------------------------------------\n",
      "            CONSTANT       1.6054850       0.2953455       5.4359546       0.0000001\n",
      "               var_1      -1.0419894       0.1210159      -8.6103542       0.0000000\n",
      "               var_2       0.1463626       0.1243765       1.1767705       0.2403159\n",
      "               var_3       0.7031431       0.0660130      10.6515907       0.0000000\n",
      "------------------------------------------------------------------------------------\n",
      "\n",
      "REGRESSION DIAGNOSTICS\n",
      "MULTICOLLINEARITY CONDITION NUMBER           70.581\n",
      "\n",
      "TEST ON NORMALITY OF ERRORS\n",
      "TEST                             DF        VALUE           PROB\n",
      "Jarque-Bera                       2         131.760           0.0000\n",
      "\n",
      "DIAGNOSTICS FOR HETEROSKEDASTICITY\n",
      "RANDOM COEFFICIENTS\n",
      "TEST                             DF        VALUE           PROB\n",
      "Breusch-Pagan test                3          43.397           0.0000\n",
      "Koenker-Bassett test              3          16.414           0.0009\n",
      "================================ END OF REPORT =====================================\n"
     ]
    }
   ],
   "source": [
    "ols = spreg.OLS(y, x)\n",
    "print(ols.summary)"
   ]
  },
  {
   "cell_type": "code",
   "execution_count": 5,
   "metadata": {},
   "outputs": [
    {
     "name": "stdout",
     "output_type": "stream",
     "text": [
      "Warning: Assuming time data is in long format, i.e. y[0:N] refersto T0, y[N+1:2N] refers to T1, etc. \n",
      " Similar for x.\n"
     ]
    },
    {
     "data": {
      "text/plain": [
       "(2.74665462214089, 0.09745814645222495)"
      ]
     },
     "execution_count": 5,
     "metadata": {},
     "output_type": "execute_result"
    }
   ],
   "source": [
    "spreg.panel_LMlag(y, x, w)"
   ]
  },
  {
   "cell_type": "code",
   "execution_count": 6,
   "metadata": {},
   "outputs": [
    {
     "name": "stdout",
     "output_type": "stream",
     "text": [
      "Warning: Assuming time data is in long format, i.e. y[0:N] refersto T0, y[N+1:2N] refers to T1, etc. \n",
      " Similar for x.\n"
     ]
    },
    {
     "data": {
      "text/plain": [
       "(6.1380487929070915, 0.01323032255801087)"
      ]
     },
     "execution_count": 6,
     "metadata": {},
     "output_type": "execute_result"
    }
   ],
   "source": [
    "spreg.panel_LMerror(y, x, w)"
   ]
  },
  {
   "cell_type": "markdown",
   "metadata": {},
   "source": [
    "pabloestradace@gmail.com"
   ]
  }
 ],
 "metadata": {
  "kernelspec": {
   "display_name": "Python 3",
   "language": "python",
   "name": "python3"
  },
  "language_info": {
   "codemirror_mode": {
    "name": "ipython",
    "version": 3
   },
   "file_extension": ".py",
   "mimetype": "text/x-python",
   "name": "python",
   "nbconvert_exporter": "python",
   "pygments_lexer": "ipython3",
   "version": "3.7.6"
  }
 },
 "nbformat": 4,
 "nbformat_minor": 4
}
