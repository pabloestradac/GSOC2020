{
 "cells": [
  {
   "cell_type": "markdown",
   "metadata": {},
   "source": [
    "# Panel - Spatial Model"
   ]
  },
  {
   "cell_type": "code",
   "execution_count": 2,
   "metadata": {},
   "outputs": [],
   "source": [
    "%load_ext autoreload\n",
    "%autoreload 2\n",
    "\n",
    "import numpy as np\n",
    "import pandas as pd\n",
    "import libpysal\n",
    "import spreg\n",
    "\n",
    "np.set_printoptions(suppress=True)"
   ]
  },
  {
   "cell_type": "markdown",
   "metadata": {},
   "source": [
    "## NCOV data"
   ]
  },
  {
   "cell_type": "markdown",
   "metadata": {},
   "source": [
    "I'm going to use a subsample of NCOVR US County Homicides. The dependent variable will be the **Homicide Rates**, and the independent variables are the **Resource Deprivation** (principal component composed of percent black, log of median family income, gini index of family income inequality, and more), and also the **Population Structure** (principal component composed of the log of population and the log of population density). Finally, the time period will be three decades: 1970, 1980, and 1990."
   ]
  },
  {
   "cell_type": "code",
   "execution_count": 3,
   "metadata": {},
   "outputs": [],
   "source": [
    "from libpysal.weights import w_subset\n",
    "# Open data on NCOVR US County Homicides (3085 areas).\n",
    "nat = libpysal.examples.load_example(\"NCOVR\")\n",
    "db = libpysal.io.open(nat.get_path(\"NAT.dbf\"), \"r\")\n",
    "# Create spatial weight matrix\n",
    "nat_shp = libpysal.examples.get_path(\"NAT.shp\")\n",
    "w_full = libpysal.weights.Queen.from_shapefile(nat_shp)\n",
    "\n",
    "# Define dependent variable\n",
    "name_y = [\"HR70\", \"HR80\", \"HR90\"]\n",
    "y_full = np.array([db.by_col(name) for name in name_y]).T\n",
    "# Define independent variables\n",
    "name_x = [\"RD70\", \"RD80\", \"RD90\", \"PS70\", \"PS80\", \"PS90\"]\n",
    "x_full = np.array([db.by_col(name) for name in name_x]).T\n",
    "\n",
    "epsilon = 0.0000001"
   ]
  },
  {
   "cell_type": "markdown",
   "metadata": {},
   "source": [
    "The subsample include the counties of 4 states: Kansas, Missouri, Oklahoma, and Arkansas. The weight matrix is row-normalized after the subsample is filtered."
   ]
  },
  {
   "cell_type": "code",
   "execution_count": 4,
   "metadata": {},
   "outputs": [],
   "source": [
    "name_c = [\"STATE_NAME\", \"FIPSNO\"]\n",
    "df_counties = pd.DataFrame([db.by_col(name) for name in name_c], index=name_c).T\n",
    "\n",
    "filter_states = [\"Kansas\", \"Missouri\", \"Oklahoma\", \"Arkansas\"]\n",
    "filter_counties = df_counties[df_counties[\"STATE_NAME\"].isin(filter_states)][\"FIPSNO\"].values\n",
    "\n",
    "counties = np.array(db.by_col(\"FIPSNO\"))\n",
    "subid = np.where(np.isin(counties, filter_counties))[0]\n",
    "\n",
    "w = w_subset(w_full, subid)\n",
    "w.transform = 'r'\n",
    "\n",
    "y = y_full[subid, ]\n",
    "x = x_full[subid, ]"
   ]
  },
  {
   "cell_type": "markdown",
   "metadata": {},
   "source": [
    "## Diagnostics"
   ]
  },
  {
   "cell_type": "markdown",
   "metadata": {},
   "source": [
    "The classic Lagrange Multiplier test the null hypothesis of no spatially lagged dependent variable and the null hypothesis of no\n",
    "spatially autocorrelated error term. In order to include spatial interactions, we need a p-value less than 5%."
   ]
  },
  {
   "cell_type": "code",
   "execution_count": 54,
   "metadata": {},
   "outputs": [
    {
     "name": "stdout",
     "output_type": "stream",
     "text": [
      "Warning: Assuming panel is in wide format, i.e. y[:, 0] refers to T0, y[:, 1] refers to T1, etc.\n",
      "Similarly, assuming x[:, 0:T] refers to T periods of k1, x[:, T+1:2T] refers to k2, etc.\n"
     ]
    },
    {
     "data": {
      "text/plain": [
       "(1.472807526666869, 0.22490325114767176)"
      ]
     },
     "execution_count": 54,
     "metadata": {},
     "output_type": "execute_result"
    }
   ],
   "source": [
    "spreg.panel_LMlag(y, x, w)"
   ]
  },
  {
   "cell_type": "code",
   "execution_count": 55,
   "metadata": {},
   "outputs": [
    {
     "name": "stdout",
     "output_type": "stream",
     "text": [
      "Warning: Assuming panel is in wide format, i.e. y[:, 0] refers to T0, y[:, 1] refers to T1, etc.\n",
      "Similarly, assuming x[:, 0:T] refers to T periods of k1, x[:, T+1:2T] refers to k2, etc.\n"
     ]
    },
    {
     "data": {
      "text/plain": [
       "(2.5125780962741793, 0.11294102977710921)"
      ]
     },
     "execution_count": 55,
     "metadata": {},
     "output_type": "execute_result"
    }
   ],
   "source": [
    "spreg.panel_rLMlag(y, x, w)"
   ]
  },
  {
   "cell_type": "code",
   "execution_count": 56,
   "metadata": {},
   "outputs": [
    {
     "name": "stdout",
     "output_type": "stream",
     "text": [
      "Warning: Assuming panel is in wide format, i.e. y[:, 0] refers to T0, y[:, 1] refers to T1, etc.\n",
      "Similarly, assuming x[:, 0:T] refers to T periods of k1, x[:, T+1:2T] refers to k2, etc.\n"
     ]
    },
    {
     "data": {
      "text/plain": [
       "(81.69630396101608, 1.5868998506678388e-19)"
      ]
     },
     "execution_count": 56,
     "metadata": {},
     "output_type": "execute_result"
    }
   ],
   "source": [
    "spreg.panel_LMerror(y, x, w)"
   ]
  },
  {
   "cell_type": "code",
   "execution_count": 57,
   "metadata": {},
   "outputs": [
    {
     "name": "stdout",
     "output_type": "stream",
     "text": [
      "Warning: Assuming panel is in wide format, i.e. y[:, 0] refers to T0, y[:, 1] refers to T1, etc.\n",
      "Similarly, assuming x[:, 0:T] refers to T periods of k1, x[:, T+1:2T] refers to k2, etc.\n"
     ]
    },
    {
     "data": {
      "text/plain": [
       "(32.14155241279442, 1.4333858484607395e-08)"
      ]
     },
     "execution_count": 57,
     "metadata": {},
     "output_type": "execute_result"
    }
   ],
   "source": [
    "spreg.panel_rLMerror(y, x, w)"
   ]
  },
  {
   "cell_type": "markdown",
   "metadata": {},
   "source": [
    "We reject the null hypothesis in the LM error test and the robust version. However, we can't reject the hypothesis in the LM lag test."
   ]
  },
  {
   "cell_type": "markdown",
   "metadata": {},
   "source": [
    "## Estimation"
   ]
  },
  {
   "cell_type": "markdown",
   "metadata": {},
   "source": [
    "The four basic estimations of panel data with spatial interactions are estimated below."
   ]
  },
  {
   "cell_type": "code",
   "execution_count": 5,
   "metadata": {},
   "outputs": [
    {
     "name": "stdout",
     "output_type": "stream",
     "text": [
      "Warning: Assuming panel is in wide format, i.e. y[:, 0] refers to T0, y[:, 1] refers to T1, etc.\n",
      "Similarly, assuming x[:, 0:T] refers to T periods of k1, x[:, T+1:2T] refers to k2, etc.\n",
      "Warning: Assuming panel is in wide format, i.e. y[:, 0] refers to T0, y[:, 1] refers to T1, etc.\n",
      "Similarly, assuming x[:, 0:T] refers to T periods of k1, x[:, T+1:2T] refers to k2, etc.\n",
      "Warning: Assuming panel is in wide format, i.e. y[:, 0] refers to T0, y[:, 1] refers to T1, etc.\n",
      "Similarly, assuming x[:, 0:T] refers to T periods of k1, x[:, T+1:2T] refers to k2, etc.\n",
      "Warning: Assuming panel is in wide format, i.e. y[:, 0] refers to T0, y[:, 1] refers to T1, etc.\n",
      "Similarly, assuming x[:, 0:T] refers to T periods of k1, x[:, T+1:2T] refers to k2, etc.\n"
     ]
    }
   ],
   "source": [
    "fe_lag = spreg.Panel_FE_Lag(y, x, w, name_y=name_y, name_x=name_x, name_ds=\"NAT\")\n",
    "fe_error = spreg.Panel_FE_Error(y, x, w, name_y=name_y, name_x=name_x, name_ds=\"NAT\")\n",
    "re_lag = spreg.Panel_RE_Lag(y, x, w, name_y=name_y, name_x=name_x, name_ds=\"NAT\")\n",
    "re_error = spreg.Panel_RE_Error(y, x, w, name_y=name_y, name_x=name_x, name_ds=\"NAT\")"
   ]
  },
  {
   "cell_type": "code",
   "execution_count": 59,
   "metadata": {},
   "outputs": [
    {
     "data": {
      "text/html": [
       "<div>\n",
       "<style scoped>\n",
       "    .dataframe tbody tr th:only-of-type {\n",
       "        vertical-align: middle;\n",
       "    }\n",
       "\n",
       "    .dataframe tbody tr th {\n",
       "        vertical-align: top;\n",
       "    }\n",
       "\n",
       "    .dataframe thead th {\n",
       "        text-align: right;\n",
       "    }\n",
       "</style>\n",
       "<table border=\"1\" class=\"dataframe\">\n",
       "  <thead>\n",
       "    <tr style=\"text-align: right;\">\n",
       "      <th></th>\n",
       "      <th>FE_Lag</th>\n",
       "      <th>FE_Error</th>\n",
       "      <th>RE_Lag</th>\n",
       "      <th>RE_Error</th>\n",
       "    </tr>\n",
       "  </thead>\n",
       "  <tbody>\n",
       "    <tr>\n",
       "      <th>Constant</th>\n",
       "      <td>0.000000</td>\n",
       "      <td>0.000000</td>\n",
       "      <td>4.444220</td>\n",
       "      <td>5.878938</td>\n",
       "    </tr>\n",
       "    <tr>\n",
       "      <th>RD</th>\n",
       "      <td>-0.615257</td>\n",
       "      <td>-0.512243</td>\n",
       "      <td>2.528217</td>\n",
       "      <td>3.232690</td>\n",
       "    </tr>\n",
       "    <tr>\n",
       "      <th>PS</th>\n",
       "      <td>-3.768267</td>\n",
       "      <td>-4.431288</td>\n",
       "      <td>2.247688</td>\n",
       "      <td>2.629968</td>\n",
       "    </tr>\n",
       "    <tr>\n",
       "      <th>Rho/Lambda</th>\n",
       "      <td>0.183525</td>\n",
       "      <td>0.190501</td>\n",
       "      <td>0.258468</td>\n",
       "      <td>0.340427</td>\n",
       "    </tr>\n",
       "    <tr>\n",
       "      <th>Random Effects</th>\n",
       "      <td>0.000000</td>\n",
       "      <td>0.000000</td>\n",
       "      <td>0.684266</td>\n",
       "      <td>4.978245</td>\n",
       "    </tr>\n",
       "  </tbody>\n",
       "</table>\n",
       "</div>"
      ],
      "text/plain": [
       "                  FE_Lag  FE_Error    RE_Lag  RE_Error\n",
       "Constant        0.000000  0.000000  4.444220  5.878938\n",
       "RD             -0.615257 -0.512243  2.528217  3.232690\n",
       "PS             -3.768267 -4.431288  2.247688  2.629968\n",
       "Rho/Lambda      0.183525  0.190501  0.258468  0.340427\n",
       "Random Effects  0.000000  0.000000  0.684266  4.978245"
      ]
     },
     "execution_count": 59,
     "metadata": {},
     "output_type": "execute_result"
    }
   ],
   "source": [
    "models_betas = np.hstack((np.vstack(([0], fe_lag.betas, [0])), \n",
    "                          np.vstack(([0], fe_error.betas, [0])), \n",
    "                          re_lag.betas, \n",
    "                          re_error.betas))\n",
    "pd.DataFrame(models_betas, \n",
    "             columns=[\"FE_Lag\", \"FE_Error\", \"RE_Lag\", \"RE_Error\"], \n",
    "             index=[\"Constant\", \"RD\", \"PS\", \"Rho/Lambda\", \"Random Effects\"])"
   ]
  },
  {
   "cell_type": "markdown",
   "metadata": {},
   "source": [
    "The estimation of $\\rho$ for the spatial lag dependent variable is 0.18 in the Fixed Effects, and 0.26 in the Random Effects. On the other hand, the estimationof $\\lambda$ for the spatial error term is 0.19 in the Fixed Effects, and 0.34 in the Random Effects."
   ]
  },
  {
   "cell_type": "markdown",
   "metadata": {},
   "source": [
    "## Hausman test"
   ]
  },
  {
   "cell_type": "code",
   "execution_count": 28,
   "metadata": {},
   "outputs": [
    {
     "data": {
      "text/plain": [
       "(-67.26822586935438, 1.0)"
      ]
     },
     "execution_count": 28,
     "metadata": {},
     "output_type": "execute_result"
    }
   ],
   "source": [
    "spreg.panel_Hausman(fe_lag, re_lag)"
   ]
  },
  {
   "cell_type": "code",
   "execution_count": 29,
   "metadata": {},
   "outputs": [
    {
     "data": {
      "text/plain": [
       "(-84.38351088621853, 1.0)"
      ]
     },
     "execution_count": 29,
     "metadata": {},
     "output_type": "execute_result"
    }
   ],
   "source": [
    "spreg.panel_Hausman(fe_error, re_error)"
   ]
  },
  {
   "cell_type": "code",
   "execution_count": null,
   "metadata": {},
   "outputs": [],
   "source": []
  }
 ],
 "metadata": {
  "kernelspec": {
   "display_name": "Python 3",
   "language": "python",
   "name": "python3"
  },
  "language_info": {
   "codemirror_mode": {
    "name": "ipython",
    "version": 3
   },
   "file_extension": ".py",
   "mimetype": "text/x-python",
   "name": "python",
   "nbconvert_exporter": "python",
   "pygments_lexer": "ipython3",
   "version": "3.7.6"
  }
 },
 "nbformat": 4,
 "nbformat_minor": 4
}
