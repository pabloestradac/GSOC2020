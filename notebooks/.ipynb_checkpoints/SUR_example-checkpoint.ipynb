{
 "cells": [
  {
   "cell_type": "markdown",
   "metadata": {},
   "source": [
    "# Spatial SUR using spreg"
   ]
  },
  {
   "cell_type": "code",
   "execution_count": 6,
   "metadata": {},
   "outputs": [],
   "source": [
    "import pysal\n",
    "import libpysal\n",
    "import spreg"
   ]
  },
  {
   "cell_type": "code",
   "execution_count": 2,
   "metadata": {},
   "outputs": [],
   "source": [
    "nat = libpysal.examples.load_example('Natregimes')\n",
    "db = libpysal.io.open(nat.get_path('natregimes.dbf'),'r')"
   ]
  },
  {
   "cell_type": "code",
   "execution_count": 3,
   "metadata": {},
   "outputs": [],
   "source": [
    "y_var = ['HR80','HR90']\n",
    "x_var = [['PS80','UE80'],['PS90','UE90']]"
   ]
  },
  {
   "cell_type": "code",
   "execution_count": 4,
   "metadata": {},
   "outputs": [],
   "source": [
    "w = libpysal.weights.Queen.from_shapefile(libpysal.examples.get_path(\"natregimes.shp\"))\n",
    "w.transform='r'"
   ]
  },
  {
   "cell_type": "code",
   "execution_count": 7,
   "metadata": {},
   "outputs": [],
   "source": [
    "bigy,bigX,bigyvars,bigXvars = spreg.sur_utils.sur_dictxy(db,y_var,x_var)"
   ]
  },
  {
   "cell_type": "code",
   "execution_count": 13,
   "metadata": {},
   "outputs": [
    {
     "name": "stdout",
     "output_type": "stream",
     "text": [
      "REGRESSION\n",
      "----------\n",
      "SUMMARY OF OUTPUT: SEEMINGLY UNRELATED REGRESSIONS (SUR)\n",
      "--------------------------------------------------------\n",
      "Data set            :         nat\n",
      "Weights matrix      :     unknown\n",
      "Number of Equations :           2                Number of Observations:        3085\n",
      "Log likelihood (SUR):  -19902.966                Number of Iterations  :           1\n",
      "----------\n",
      "\n",
      "SUMMARY OF EQUATION 1\n",
      "---------------------\n",
      "Dependent Variable  :        HR80                Number of Variables   :           3\n",
      "Mean dependent var  :      6.9276                Degrees of Freedom    :        3082\n",
      "S.D. dependent var  :      6.8251\n",
      "\n",
      "------------------------------------------------------------------------------------\n",
      "            Variable     Coefficient       Std.Error     z-Statistic     Probability\n",
      "------------------------------------------------------------------------------------\n",
      "          Constant_1       5.1390718       0.2624673      19.5798587       0.0000000\n",
      "                PS80       0.6776481       0.1219578       5.5564132       0.0000000\n",
      "                UE80       0.2637240       0.0343184       7.6846277       0.0000000\n",
      "------------------------------------------------------------------------------------\n",
      "\n",
      "SUMMARY OF EQUATION 2\n",
      "---------------------\n",
      "Dependent Variable  :        HR90                Number of Variables   :           3\n",
      "Mean dependent var  :      6.1829                Degrees of Freedom    :        3082\n",
      "S.D. dependent var  :      6.6403\n",
      "\n",
      "------------------------------------------------------------------------------------\n",
      "            Variable     Coefficient       Std.Error     z-Statistic     Probability\n",
      "------------------------------------------------------------------------------------\n",
      "          Constant_2       3.6139403       0.2534996      14.2561949       0.0000000\n",
      "                PS90       1.0260715       0.1121662       9.1477755       0.0000000\n",
      "                UE90       0.3865499       0.0341996      11.3027760       0.0000000\n",
      "------------------------------------------------------------------------------------\n",
      "\n",
      "\n",
      "REGRESSION DIAGNOSTICS\n",
      "                                     TEST         DF       VALUE           PROB\n",
      "                         LM test on Sigma         1      680.168           0.0000\n",
      "                         LR test on Sigma         1      768.385           0.0000\n",
      "\n",
      "OTHER DIAGNOSTICS - CHOW TEST BETWEEN EQUATIONS\n",
      "                                VARIABLES         DF       VALUE           PROB\n",
      "                   Constant_1, Constant_2         1       26.729           0.0000\n",
      "                               PS80, PS90         1        8.241           0.0041\n",
      "                               UE80, UE90         1        9.384           0.0022\n",
      "\n",
      "DIAGNOSTICS FOR SPATIAL DEPENDENCE\n",
      "TEST                              DF       VALUE           PROB\n",
      "Lagrange Multiplier (error)       2        1333.586        0.0000\n",
      "Lagrange Multiplier (lag)         2        1275.821        0.0000\n",
      "\n",
      "ERROR CORRELATION MATRIX\n",
      "  EQUATION 1  EQUATION 2\n",
      "    1.000000    0.469548\n",
      "    0.469548    1.000000\n",
      "================================ END OF REPORT =====================================\n"
     ]
    }
   ],
   "source": [
    "reg = spreg.SUR(bigy,bigX,w=w,name_bigy=bigyvars,name_bigX=bigXvars,spat_diag=True,name_ds=\"nat\")\n",
    "print(reg.summary)"
   ]
  },
  {
   "cell_type": "code",
   "execution_count": null,
   "metadata": {},
   "outputs": [],
   "source": []
  }
 ],
 "metadata": {
  "kernelspec": {
   "display_name": "Python 3",
   "language": "python",
   "name": "python3"
  },
  "language_info": {
   "codemirror_mode": {
    "name": "ipython",
    "version": 3
   },
   "file_extension": ".py",
   "mimetype": "text/x-python",
   "name": "python",
   "nbconvert_exporter": "python",
   "pygments_lexer": "ipython3",
   "version": "3.7.6"
  },
  "toc": {
   "base_numbering": 1,
   "nav_menu": {},
   "number_sections": true,
   "sideBar": true,
   "skip_h1_title": false,
   "title_cell": "Table of Contents",
   "title_sidebar": "Contents",
   "toc_cell": false,
   "toc_position": {},
   "toc_section_display": true,
   "toc_window_display": false
  }
 },
 "nbformat": 4,
 "nbformat_minor": 4
}
