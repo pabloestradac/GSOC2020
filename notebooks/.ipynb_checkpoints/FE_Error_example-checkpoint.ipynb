{
 "cells": [
  {
   "cell_type": "markdown",
   "metadata": {},
   "source": [
    "# Fixed Effects Panel - Spatial Lag Model\n",
    "\n",
    "This notebook contains an example of the class `Panel_ML` from `pysal.spreg`."
   ]
  },
  {
   "cell_type": "markdown",
   "metadata": {},
   "source": [
    "## Panel_ML - spreg"
   ]
  },
  {
   "cell_type": "code",
   "execution_count": 1,
   "metadata": {},
   "outputs": [],
   "source": [
    "%load_ext autoreload\n",
    "%autoreload 2\n",
    "\n",
    "import numpy as np\n",
    "import libpysal\n",
    "import spreg"
   ]
  },
  {
   "cell_type": "code",
   "execution_count": 2,
   "metadata": {},
   "outputs": [],
   "source": [
    "# Open data on NCOVR US County Homicides (3085 areas).\n",
    "nat = libpysal.examples.load_example(\"NCOVR\")\n",
    "db = libpysal.io.open(nat.get_path(\"NAT.dbf\"), \"r\")\n",
    "# Create spatial weight matrix\n",
    "nat_shp = libpysal.examples.get_path(\"NAT.shp\")\n",
    "w = libpysal.weights.Queen.from_shapefile(nat_shp)\n",
    "w.transform = 'r'\n",
    "# Define dependent variable\n",
    "name_y = [\"HR70\", \"HR80\", \"HR90\"]\n",
    "y = np.array([db.by_col(name) for name in name_y]).T\n",
    "# Define independent variables\n",
    "name_x = [\"RD70\", \"RD80\", \"RD90\", \"PS70\", \"PS80\", \"PS90\"]\n",
    "x = np.array([db.by_col(name) for name in name_x]).T"
   ]
  },
  {
   "cell_type": "code",
   "execution_count": 3,
   "metadata": {},
   "outputs": [],
   "source": [
    "# import pandas as pd\n",
    "# from libpysal.weights import full2W\n",
    "# df = pd.read_csv(\"NAT.csv\")\n",
    "# df_w = pd.read_csv(\"NAT_w.csv\")\n",
    "# name_y = [\"HR\"]\n",
    "# y = df[name_y].values\n",
    "# name_x = [\"RD\", \"PS\"]\n",
    "# x = df[name_x].values\n",
    "# w = full2W(df_w.values)\n",
    "# w.transform = 'r'"
   ]
  },
  {
   "cell_type": "code",
   "execution_count": 3,
   "metadata": {},
   "outputs": [
    {
     "name": "stdout",
     "output_type": "stream",
     "text": [
      "Warning: Assuming panel is in wide format, i.e. y[:, 0] refers to T0, y[:, 1] refers to T1, etc.\n",
      "Similarly, assuming x[:, 0:T] refers to T periods of k1, x[:, T+1:2T] refers to k2, etc.\n",
      "Warning: Assuming panel is in wide format, i.e. y[:, 0] refers to T0, y[:, 1] refers to T1, etc.\n",
      "Similarly, assuming x[:, 0:T] refers to T periods of k1, x[:, T+1:2T] refers to k2, etc.\n",
      "Warning: Assuming panel is in wide format, i.e. y[:, 0] refers to T0, y[:, 1] refers to T1, etc.\n",
      "Similarly, assuming x[:, 0:T] refers to T periods of k1, x[:, T+1:2T] refers to k2, etc.\n",
      "Warning: Assuming panel is in wide format, i.e. y[:, 0] refers to T0, y[:, 1] refers to T1, etc.\n",
      "Similarly, assuming x[:, 0:T] refers to T periods of k1, x[:, T+1:2T] refers to k2, etc.\n",
      "Warning: Assuming panel is in wide format, i.e. y[:, 0] refers to T0, y[:, 1] refers to T1, etc.\n",
      "Similarly, assuming x[:, 0:T] refers to T periods of k1, x[:, T+1:2T] refers to k2, etc.\n",
      "Warning: Assuming panel is in wide format, i.e. y[:, 0] refers to T0, y[:, 1] refers to T1, etc.\n",
      "Similarly, assuming x[:, 0:T] refers to T periods of k1, x[:, T+1:2T] refers to k2, etc.\n",
      "Warning: Assuming panel is in wide format, i.e. y[:, 0] refers to T0, y[:, 1] refers to T1, etc.\n",
      "Similarly, assuming x[:, 0:T] refers to T periods of k1, x[:, T+1:2T] refers to k2, etc.\n",
      "Warning: Assuming panel is in wide format, i.e. y[:, 0] refers to T0, y[:, 1] refers to T1, etc.\n",
      "Similarly, assuming x[:, 0:T] refers to T periods of k1, x[:, T+1:2T] refers to k2, etc.\n",
      "12.3 s ± 880 ms per loop (mean ± std. dev. of 7 runs, 1 loop each)\n"
     ]
    }
   ],
   "source": [
    "%%timeit\n",
    "model = spreg.Panel_FE_Error(y, x, w, name_y=name_y, name_x=name_x, name_ds=\"NAT\")"
   ]
  },
  {
   "cell_type": "code",
   "execution_count": 3,
   "metadata": {},
   "outputs": [
    {
     "name": "stdout",
     "output_type": "stream",
     "text": [
      "Warning: Assuming panel is in wide format, i.e. y[:, 0] refers to T0, y[:, 1] refers to T1, etc.\n",
      "Similarly, assuming x[:, 0:T] refers to T periods of k1, x[:, T+1:2T] refers to k2, etc.\n"
     ]
    }
   ],
   "source": [
    "model = spreg.Panel_FE_Error(y, x, w, name_y=name_y, name_x=name_x, name_ds=\"NAT\")"
   ]
  },
  {
   "cell_type": "code",
   "execution_count": 4,
   "metadata": {},
   "outputs": [
    {
     "name": "stdout",
     "output_type": "stream",
     "text": [
      "REGRESSION\n",
      "----------\n",
      "SUMMARY OF OUTPUT: MAXIMUM LIKELIHOOD SPATIAL ERROR PANEL - FIXED EFFECTS\n",
      "-------------------------------------------------------------------------\n",
      "Data set            :         NAT\n",
      "Weights matrix      :     unknown\n",
      "Dependent Variable  :          HR                Number of Observations:        9255\n",
      "Mean dependent var  :      0.0000                Number of Variables   :           2\n",
      "S.D. dependent var  :      3.9228                Degrees of Freedom    :        9253\n",
      "Pseudo R-squared    :      0.0000\n",
      "Sigma-square ML     :      68.951                Log likelihood        :  -67934.005\n",
      "S.E of regression   :       8.304                Akaike info criterion :  135872.010\n",
      "                                                 Schwarz criterion     :  135886.276\n",
      "\n",
      "------------------------------------------------------------------------------------\n",
      "            Variable     Coefficient       Std.Error     z-Statistic     Probability\n",
      "------------------------------------------------------------------------------------\n",
      "                  RD       0.8697923       0.0053559     162.3989150       0.0000000\n",
      "                  PS      -2.9660674       0.0169739    -174.7425059       0.0000000\n",
      "              lambda       0.1943460       0.0160253      12.1274197       0.0000000\n",
      "------------------------------------------------------------------------------------\n",
      "================================ END OF REPORT =====================================\n"
     ]
    }
   ],
   "source": [
    "print(model.summary)"
   ]
  },
  {
   "cell_type": "code",
   "execution_count": 7,
   "metadata": {},
   "outputs": [
    {
     "data": {
      "text/plain": [
       "array([[ 0.8698],\n",
       "       [-2.9661],\n",
       "       [ 0.1943]])"
      ]
     },
     "execution_count": 7,
     "metadata": {},
     "output_type": "execute_result"
    }
   ],
   "source": [
    "np.around(model.betas, decimals=4)"
   ]
  },
  {
   "cell_type": "code",
   "execution_count": 7,
   "metadata": {},
   "outputs": [
    {
     "data": {
      "text/plain": [
       "array([[ 0.86979232],\n",
       "       [-2.96606744],\n",
       "       [ 0.19434604]])"
      ]
     },
     "execution_count": 7,
     "metadata": {},
     "output_type": "execute_result"
    }
   ],
   "source": [
    "model.betas"
   ]
  },
  {
   "cell_type": "code",
   "execution_count": 19,
   "metadata": {},
   "outputs": [
    {
     "data": {
      "text/plain": [
       "-35839.07814595635"
      ]
     },
     "execution_count": 19,
     "metadata": {},
     "output_type": "execute_result"
    }
   ],
   "source": [
    "model.logll"
   ]
  },
  {
   "cell_type": "code",
   "execution_count": 8,
   "metadata": {},
   "outputs": [
    {
     "data": {
      "text/plain": [
       "71682.1562919127"
      ]
     },
     "execution_count": 8,
     "metadata": {},
     "output_type": "execute_result"
    }
   ],
   "source": [
    "model.aic"
   ]
  },
  {
   "cell_type": "code",
   "execution_count": 9,
   "metadata": {},
   "outputs": [
    {
     "data": {
      "text/plain": [
       "71696.42213036271"
      ]
     },
     "execution_count": 9,
     "metadata": {},
     "output_type": "execute_result"
    }
   ],
   "source": [
    "model.schwarz"
   ]
  },
  {
   "cell_type": "markdown",
   "metadata": {},
   "source": [
    "Write data to use it in R."
   ]
  },
  {
   "cell_type": "code",
   "execution_count": 3,
   "metadata": {},
   "outputs": [
    {
     "name": "stdout",
     "output_type": "stream",
     "text": [
      "Warning: Assuming panel is in wide format, i.e. y[:, 0] refers to T0, y[:, 1] refers to T1, etc.\n",
      "Similarly, assuming x[:, 0:T] refers to T periods of k1, x[:, T+1:2T] refers to k2, etc.\n"
     ]
    }
   ],
   "source": [
    "# import pandas as pd\n",
    "# # Open data on NCOVR US County Homicides (3085 areas).\n",
    "# nat = libpysal.examples.load_example(\"NCOVR\")\n",
    "# db = libpysal.io.open(nat.get_path(\"NAT.dbf\"), \"r\")\n",
    "# # Create spatial weight matrix\n",
    "# nat_shp = libpysal.examples.get_path(\"NAT.shp\")\n",
    "# w = libpysal.weights.Queen.from_shapefile(nat_shp)\n",
    "# pd.DataFrame(w.full()[0]).to_csv(\"NAT_w.csv\", index=False)\n",
    "# # Define dependent variable\n",
    "# name_y = [\"HR70\", \"HR80\", \"HR90\"]\n",
    "# y = np.array([db.by_col(name) for name in name_y]).T\n",
    "# # Define independent variables\n",
    "# name_x = [\"RD70\", \"RD80\", \"RD90\", \"PS70\", \"PS80\", \"PS90\"]\n",
    "# x = np.array([db.by_col(name) for name in name_x]).T\n",
    "# y, x, name_y, name_x = spreg.panel_utils.check_panel(y, x, w, name_y, name_x)\n",
    "# db_reg = pd.DataFrame(np.hstack((y, x)), columns=[\"HR\", \"RD\", \"PS\"])\n",
    "# db_reg[\"YEAR\"] = np.repeat(np.array([1, 2, 3]), 3085)\n",
    "# db_reg[\"FIPSNO\"] = np.tile(np.arange(3085), reps=3)\n",
    "# db_reg.to_csv(\"data/NAT.csv\", index=False)"
   ]
  },
  {
   "cell_type": "markdown",
   "metadata": {},
   "source": [
    "## splm"
   ]
  },
  {
   "cell_type": "code",
   "execution_count": 1,
   "metadata": {},
   "outputs": [
    {
     "name": "stderr",
     "output_type": "stream",
     "text": [
      "Loading required package: spdep\n",
      "\n",
      "Loading required package: sp\n",
      "\n",
      "Loading required package: spData\n",
      "\n",
      "To access larger datasets in this package, install the\n",
      "spDataLarge package with: `install.packages('spDataLarge',\n",
      "repos='https://nowosad.github.io/drat/', type='source')`\n",
      "\n",
      "Loading required package: sf\n",
      "\n",
      "Linking to GEOS 3.8.0, GDAL 3.0.4, PROJ 6.3.1\n",
      "\n"
     ]
    }
   ],
   "source": [
    "### set options\n",
    "options(prompt = \"R> \",  continue = \"+ \", width = 70, useFancyQuotes = FALSE, warn = -1)\n",
    "\n",
    "### load library\n",
    "library(\"splm\")"
   ]
  },
  {
   "cell_type": "code",
   "execution_count": 2,
   "metadata": {},
   "outputs": [],
   "source": [
    "## read data\n",
    "nat <- read.csv(\"data/NAT.csv\", header = TRUE)\n",
    "## set formula\n",
    "fm <- HR ~ RD + PS\n",
    "wnat <- as.matrix(read.csv(\"data/NAT_w.csv\"))\n",
    "## standardization\n",
    "wnat <- wnat/apply(wnat, 1, sum)\n",
    "## make it a listw\n",
    "lwnat <- mat2listw(wnat)"
   ]
  },
  {
   "cell_type": "code",
   "execution_count": 3,
   "metadata": {},
   "outputs": [],
   "source": [
    "col_order <- c(\"FIPSNO\", \"YEAR\", \"HR\", \"RD\", \"PS\")\n",
    "nat <- nat[, col_order]"
   ]
  },
  {
   "cell_type": "code",
   "execution_count": 4,
   "metadata": {},
   "outputs": [
    {
     "name": "stderr",
     "output_type": "stream",
     "text": [
      "Registered S3 methods overwritten by 'spatialreg':\n",
      "  method                   from \n",
      "  residuals.stsls          spdep\n",
      "  deviance.stsls           spdep\n",
      "  coef.stsls               spdep\n",
      "  print.stsls              spdep\n",
      "  summary.stsls            spdep\n",
      "  print.summary.stsls      spdep\n",
      "  residuals.gmsar          spdep\n",
      "  deviance.gmsar           spdep\n",
      "  coef.gmsar               spdep\n",
      "  fitted.gmsar             spdep\n",
      "  print.gmsar              spdep\n",
      "  summary.gmsar            spdep\n",
      "  print.summary.gmsar      spdep\n",
      "  print.lagmess            spdep\n",
      "  summary.lagmess          spdep\n",
      "  print.summary.lagmess    spdep\n",
      "  residuals.lagmess        spdep\n",
      "  deviance.lagmess         spdep\n",
      "  coef.lagmess             spdep\n",
      "  fitted.lagmess           spdep\n",
      "  logLik.lagmess           spdep\n",
      "  fitted.SFResult          spdep\n",
      "  print.SFResult           spdep\n",
      "  fitted.ME_res            spdep\n",
      "  print.ME_res             spdep\n",
      "  print.lagImpact          spdep\n",
      "  plot.lagImpact           spdep\n",
      "  summary.lagImpact        spdep\n",
      "  HPDinterval.lagImpact    spdep\n",
      "  print.summary.lagImpact  spdep\n",
      "  print.sarlm              spdep\n",
      "  summary.sarlm            spdep\n",
      "  residuals.sarlm          spdep\n",
      "  deviance.sarlm           spdep\n",
      "  coef.sarlm               spdep\n",
      "  vcov.sarlm               spdep\n",
      "  fitted.sarlm             spdep\n",
      "  logLik.sarlm             spdep\n",
      "  anova.sarlm              spdep\n",
      "  predict.sarlm            spdep\n",
      "  print.summary.sarlm      spdep\n",
      "  print.sarlm.pred         spdep\n",
      "  as.data.frame.sarlm.pred spdep\n",
      "  residuals.spautolm       spdep\n",
      "  deviance.spautolm        spdep\n",
      "  coef.spautolm            spdep\n",
      "  fitted.spautolm          spdep\n",
      "  print.spautolm           spdep\n",
      "  summary.spautolm         spdep\n",
      "  logLik.spautolm          spdep\n",
      "  print.summary.spautolm   spdep\n",
      "  print.WXImpact           spdep\n",
      "  summary.WXImpact         spdep\n",
      "  print.summary.WXImpact   spdep\n",
      "  predict.SLX              spdep\n",
      "\n"
     ]
    }
   ],
   "source": [
    "fixed_error = spml(HR ~ RD + PS, data=nat, listw=lwnat, effect=\"individual\",\n",
    "                 model=\"within\", spatial.error=\"b\", lag=FALSE)"
   ]
  },
  {
   "cell_type": "code",
   "execution_count": 5,
   "metadata": {},
   "outputs": [
    {
     "data": {
      "text/plain": [
       "Spatial panel fixed effects error model\n",
       " \n",
       "\n",
       "Call:\n",
       "spml(formula = HR ~ RD + PS, data = nat, listw = lwnat, model = \"within\", \n",
       "    effect = \"individual\", lag = FALSE, spatial.error = \"b\")\n",
       "\n",
       "Residuals:\n",
       "      Min.    1st Qu.     Median    3rd Qu.       Max. \n",
       "-27.238335  -1.600550  -0.097525   1.304874  48.048799 \n",
       "\n",
       "Spatial error parameter:\n",
       "    Estimate Std. Error t-value  Pr(>|t|)    \n",
       "rho 0.194346   0.016025  12.127 < 2.2e-16 ***\n",
       "\n",
       "Coefficients:\n",
       "   Estimate Std. Error t-value  Pr(>|t|)    \n",
       "RD  0.86979    0.17180  5.0627 4.133e-07 ***\n",
       "PS -2.96607    0.54448 -5.4475 5.107e-08 ***\n",
       "---\n",
       "Signif. codes:  0 '***' 0.001 '**' 0.01 '*' 0.05 '.' 0.1 ' ' 1\n"
      ]
     },
     "metadata": {},
     "output_type": "display_data"
    }
   ],
   "source": [
    "summary(fixed_error)"
   ]
  },
  {
   "cell_type": "code",
   "execution_count": 7,
   "metadata": {},
   "outputs": [
    {
     "data": {
      "text/html": [
       "<table>\n",
       "<caption>A matrix: 3 × 3 of type dbl</caption>\n",
       "<tbody>\n",
       "\t<tr><td>0.0002568114</td><td>0.00000000</td><td>0.00000000</td></tr>\n",
       "\t<tr><td>0.0000000000</td><td>0.02951625</td><td>0.02665169</td></tr>\n",
       "\t<tr><td>0.0000000000</td><td>0.02665169</td><td>0.29645666</td></tr>\n",
       "</tbody>\n",
       "</table>\n"
      ],
      "text/latex": [
       "A matrix: 3 × 3 of type dbl\n",
       "\\begin{tabular}{lll}\n",
       "\t 0.0002568114 & 0.00000000 & 0.00000000\\\\\n",
       "\t 0.0000000000 & 0.02951625 & 0.02665169\\\\\n",
       "\t 0.0000000000 & 0.02665169 & 0.29645666\\\\\n",
       "\\end{tabular}\n"
      ],
      "text/markdown": [
       "\n",
       "A matrix: 3 × 3 of type dbl\n",
       "\n",
       "| 0.0002568114 | 0.00000000 | 0.00000000 |\n",
       "| 0.0000000000 | 0.02951625 | 0.02665169 |\n",
       "| 0.0000000000 | 0.02665169 | 0.29645666 |\n",
       "\n"
      ],
      "text/plain": [
       "     [,1]         [,2]       [,3]      \n",
       "[1,] 0.0002568114 0.00000000 0.00000000\n",
       "[2,] 0.0000000000 0.02951625 0.02665169\n",
       "[3,] 0.0000000000 0.02665169 0.29645666"
      ]
     },
     "metadata": {},
     "output_type": "display_data"
    }
   ],
   "source": [
    "fixed_error$vcov"
   ]
  },
  {
   "cell_type": "code",
   "execution_count": 8,
   "metadata": {},
   "outputs": [
    {
     "data": {
      "text/plain": [
       "NULL"
      ]
     },
     "metadata": {},
     "output_type": "display_data"
    }
   ],
   "source": [
    "fixed_error$logLik"
   ]
  },
  {
   "cell_type": "code",
   "execution_count": 9,
   "metadata": {},
   "outputs": [
    {
     "data": {
      "text/html": [
       "<style>\n",
       ".dl-inline {width: auto; margin:0; padding: 0}\n",
       ".dl-inline>dt, .dl-inline>dd {float: none; width: auto; display: inline-block}\n",
       ".dl-inline>dt::after {content: \":\\0020\"; padding-right: .5ex}\n",
       ".dl-inline>dt:not(:first-of-type) {padding-left: .5ex}\n",
       "</style><dl class=dl-inline><dt>rho</dt><dd>0.194345952893218</dd><dt>RD</dt><dd>0.869792300243763</dd><dt>PS</dt><dd>-2.96606736240066</dd></dl>\n"
      ],
      "text/latex": [
       "\\begin{description*}\n",
       "\\item[rho] 0.194345952893218\n",
       "\\item[RD] 0.869792300243763\n",
       "\\item[PS] -2.96606736240066\n",
       "\\end{description*}\n"
      ],
      "text/markdown": [
       "rho\n",
       ":   0.194345952893218RD\n",
       ":   0.869792300243763PS\n",
       ":   -2.96606736240066\n",
       "\n"
      ],
      "text/plain": [
       "       rho         RD         PS \n",
       " 0.1943460  0.8697923 -2.9660674 "
      ]
     },
     "metadata": {},
     "output_type": "display_data"
    }
   ],
   "source": [
    "fixed_error$coefficients"
   ]
  },
  {
   "cell_type": "code",
   "execution_count": 5,
   "metadata": {},
   "outputs": [
    {
     "data": {
      "text/plain": [
       "array([[ 0.8697923 ],\n",
       "       [-2.96606738],\n",
       "       [ 0.19434597]])"
      ]
     },
     "execution_count": 5,
     "metadata": {},
     "output_type": "execute_result"
    }
   ],
   "source": [
    "model.betas"
   ]
  },
  {
   "cell_type": "code",
   "execution_count": 6,
   "metadata": {},
   "outputs": [
    {
     "data": {
      "text/plain": [
       "array([[0.00002869, 0.0000259 , 0.        ],\n",
       "       [0.0000259 , 0.00028811, 0.        ],\n",
       "       [0.        , 0.        , 0.00025681]])"
      ]
     },
     "execution_count": 6,
     "metadata": {},
     "output_type": "execute_result"
    }
   ],
   "source": [
    "np.set_printoptions(suppress=True)\n",
    "np.around(model.vm, decimals=8)"
   ]
  },
  {
   "cell_type": "code",
   "execution_count": 9,
   "metadata": {},
   "outputs": [
    {
     "data": {
      "text/plain": [
       "array([0.36929682, 1.17037646, 0.01602534])"
      ]
     },
     "execution_count": 9,
     "metadata": {},
     "output_type": "execute_result"
    }
   ],
   "source": [
    "model.std_err"
   ]
  },
  {
   "cell_type": "code",
   "execution_count": null,
   "metadata": {},
   "outputs": [],
   "source": []
  }
 ],
 "metadata": {
  "kernelspec": {
   "display_name": "Python 3",
   "language": "python",
   "name": "python3"
  },
  "language_info": {
   "codemirror_mode": {
    "name": "ipython",
    "version": 3
   },
   "file_extension": ".py",
   "mimetype": "text/x-python",
   "name": "python",
   "nbconvert_exporter": "python",
   "pygments_lexer": "ipython3",
   "version": "3.7.6"
  }
 },
 "nbformat": 4,
 "nbformat_minor": 4
}
