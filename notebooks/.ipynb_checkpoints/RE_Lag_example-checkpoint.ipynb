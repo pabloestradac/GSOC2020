{
 "cells": [
  {
   "cell_type": "markdown",
   "metadata": {},
   "source": [
    "# Fixed Effects Panel - Spatial Lag Model\n",
    "\n",
    "This notebook contains an example of the class `Panel_ML` from `pysal.spreg`."
   ]
  },
  {
   "cell_type": "markdown",
   "metadata": {},
   "source": [
    "## Panel_ML - spreg"
   ]
  },
  {
   "cell_type": "code",
   "execution_count": 13,
   "metadata": {},
   "outputs": [
    {
     "name": "stdout",
     "output_type": "stream",
     "text": [
      "The autoreload extension is already loaded. To reload it, use:\n",
      "  %reload_ext autoreload\n"
     ]
    }
   ],
   "source": [
    "%load_ext autoreload\n",
    "%autoreload 2\n",
    "\n",
    "import numpy as np\n",
    "import pandas as pd\n",
    "import libpysal\n",
    "import spreg\n",
    "\n",
    "np.set_printoptions(suppress=True)"
   ]
  },
  {
   "cell_type": "code",
   "execution_count": 14,
   "metadata": {},
   "outputs": [],
   "source": [
    "from libpysal.weights import w_subset\n",
    "# Open data on NCOVR US County Homicides (3085 areas).\n",
    "nat = libpysal.examples.load_example(\"NCOVR\")\n",
    "db = libpysal.io.open(nat.get_path(\"NAT.dbf\"), \"r\")\n",
    "# Create spatial weight matrix\n",
    "nat_shp = libpysal.examples.get_path(\"NAT.shp\")\n",
    "w_full = libpysal.weights.Queen.from_shapefile(nat_shp)\n",
    "\n",
    "# Define dependent variable\n",
    "name_y = [\"HR70\", \"HR80\", \"HR90\"]\n",
    "y_full = np.array([db.by_col(name) for name in name_y]).T\n",
    "# Define independent variables\n",
    "name_x = [\"RD70\", \"RD80\", \"RD90\", \"PS70\", \"PS80\", \"PS90\"]\n",
    "x_full = np.array([db.by_col(name) for name in name_x]).T\n",
    "\n",
    "epsilon = 0.0000001"
   ]
  },
  {
   "cell_type": "code",
   "execution_count": 15,
   "metadata": {},
   "outputs": [],
   "source": [
    "name_c = [\"STATE_NAME\", \"FIPSNO\"]\n",
    "df_counties = pd.DataFrame([db.by_col(name) for name in name_c], index=name_c).T\n",
    "\n",
    "filter_states = [\"Kansas\", \"Missouri\", \"Oklahoma\", \"Arkansas\"]\n",
    "filter_counties = df_counties[df_counties[\"STATE_NAME\"].isin(filter_states)][\"FIPSNO\"].values\n",
    "\n",
    "counties = np.array(db.by_col(\"FIPSNO\"))\n",
    "subid = np.where(np.isin(counties, filter_counties))[0]\n",
    "\n",
    "w = w_subset(w_full, subid)\n",
    "w.transform = 'r'\n",
    "\n",
    "y = y_full[subid, ]\n",
    "x = x_full[subid, ]"
   ]
  },
  {
   "cell_type": "code",
   "execution_count": 4,
   "metadata": {},
   "outputs": [
    {
     "name": "stdout",
     "output_type": "stream",
     "text": [
      "Warning: Assuming panel is in wide format, i.e. y[:, 0] refers to T0, y[:, 1] refers to T1, etc.\n",
      "Similarly, assuming x[:, 0:T] refers to T periods of k1, x[:, T+1:2T] refers to k2, etc.\n",
      "Warning: Assuming panel is in wide format, i.e. y[:, 0] refers to T0, y[:, 1] refers to T1, etc.\n",
      "Similarly, assuming x[:, 0:T] refers to T periods of k1, x[:, T+1:2T] refers to k2, etc.\n",
      "Warning: Assuming panel is in wide format, i.e. y[:, 0] refers to T0, y[:, 1] refers to T1, etc.\n",
      "Similarly, assuming x[:, 0:T] refers to T periods of k1, x[:, T+1:2T] refers to k2, etc.\n",
      "Warning: Assuming panel is in wide format, i.e. y[:, 0] refers to T0, y[:, 1] refers to T1, etc.\n",
      "Similarly, assuming x[:, 0:T] refers to T periods of k1, x[:, T+1:2T] refers to k2, etc.\n",
      "Warning: Assuming panel is in wide format, i.e. y[:, 0] refers to T0, y[:, 1] refers to T1, etc.\n",
      "Similarly, assuming x[:, 0:T] refers to T periods of k1, x[:, T+1:2T] refers to k2, etc.\n",
      "Warning: Assuming panel is in wide format, i.e. y[:, 0] refers to T0, y[:, 1] refers to T1, etc.\n",
      "Similarly, assuming x[:, 0:T] refers to T periods of k1, x[:, T+1:2T] refers to k2, etc.\n",
      "Warning: Assuming panel is in wide format, i.e. y[:, 0] refers to T0, y[:, 1] refers to T1, etc.\n",
      "Similarly, assuming x[:, 0:T] refers to T periods of k1, x[:, T+1:2T] refers to k2, etc.\n",
      "Warning: Assuming panel is in wide format, i.e. y[:, 0] refers to T0, y[:, 1] refers to T1, etc.\n",
      "Similarly, assuming x[:, 0:T] refers to T periods of k1, x[:, T+1:2T] refers to k2, etc.\n",
      "3.43 s ± 101 ms per loop (mean ± std. dev. of 7 runs, 1 loop each)\n"
     ]
    }
   ],
   "source": [
    "%%timeit\n",
    "model = spreg.Panel_RE_Lag(y, x, w, name_y=name_y, name_x=name_x, name_ds=\"NAT\")"
   ]
  },
  {
   "cell_type": "code",
   "execution_count": 16,
   "metadata": {},
   "outputs": [
    {
     "name": "stdout",
     "output_type": "stream",
     "text": [
      "Warning: Assuming panel is in wide format, i.e. y[:, 0] refers to T0, y[:, 1] refers to T1, etc.\n",
      "Similarly, assuming x[:, 0:T] refers to T periods of k1, x[:, T+1:2T] refers to k2, etc.\n"
     ]
    }
   ],
   "source": [
    "model = spreg.Panel_RE_Lag(y, x, w, name_y=name_y, name_x=name_x, name_ds=\"NAT\")"
   ]
  },
  {
   "cell_type": "code",
   "execution_count": 17,
   "metadata": {},
   "outputs": [
    {
     "name": "stdout",
     "output_type": "stream",
     "text": [
      "REGRESSION\n",
      "----------\n",
      "SUMMARY OF OUTPUT: MAXIMUM LIKELIHOOD SPATIAL LAG PANEL - RANDOM EFFECTS\n",
      "------------------------------------------------------------------------\n",
      "Data set            :         NAT\n",
      "Weights matrix      :     unknown\n",
      "Dependent Variable  :          HR                Number of Observations:        1116\n",
      "Mean dependent var  :      3.6080                Number of Variables   :           4\n",
      "S.D. dependent var  :      4.6195                Degrees of Freedom    :        1112\n",
      "Pseudo R-squared    :      0.2635\n",
      "Spatial Pseudo R-squared:  0.2198\n",
      "Sigma-square ML     :      15.712                Log likelihood        :   -3127.653\n",
      "S.E of regression   :       3.964                Akaike info criterion :    6263.306\n",
      "                                                 Schwarz criterion     :    6283.376\n",
      "\n",
      "------------------------------------------------------------------------------------\n",
      "            Variable     Coefficient       Std.Error     z-Statistic     Probability\n",
      "------------------------------------------------------------------------------------\n",
      "            CONSTANT       4.4442199       0.2955350      15.0378813       0.0000000\n",
      "                  RD       2.5282172       0.2287544      11.0521037       0.0000000\n",
      "                  PS       2.2476885       0.2411237       9.3217243       0.0000000\n",
      "                W_HR       0.2584685       0.0405956       6.3669012       0.0000000\n",
      "                 phi       0.6842664       0.0294802      23.2110454       0.0000000\n",
      "------------------------------------------------------------------------------------\n",
      "================================ END OF REPORT =====================================\n"
     ]
    }
   ],
   "source": [
    "print(model.summary)"
   ]
  },
  {
   "cell_type": "code",
   "execution_count": 8,
   "metadata": {},
   "outputs": [
    {
     "data": {
      "text/plain": [
       "array([[4.4442],\n",
       "       [2.5282],\n",
       "       [2.2477],\n",
       "       [0.2585]])"
      ]
     },
     "execution_count": 8,
     "metadata": {},
     "output_type": "execute_result"
    }
   ],
   "source": [
    "np.around(model.betas, decimals=4)"
   ]
  },
  {
   "cell_type": "code",
   "execution_count": 9,
   "metadata": {},
   "outputs": [
    {
     "data": {
      "text/plain": [
       "-3127.652757262218"
      ]
     },
     "execution_count": 9,
     "metadata": {},
     "output_type": "execute_result"
    }
   ],
   "source": [
    "model.logll"
   ]
  },
  {
   "cell_type": "code",
   "execution_count": 10,
   "metadata": {},
   "outputs": [
    {
     "data": {
      "text/plain": [
       "6263.305514524436"
      ]
     },
     "execution_count": 10,
     "metadata": {},
     "output_type": "execute_result"
    }
   ],
   "source": [
    "model.aic"
   ]
  },
  {
   "cell_type": "code",
   "execution_count": 11,
   "metadata": {},
   "outputs": [
    {
     "data": {
      "text/plain": [
       "6283.3755390962015"
      ]
     },
     "execution_count": 11,
     "metadata": {},
     "output_type": "execute_result"
    }
   ],
   "source": [
    "model.schwarz"
   ]
  },
  {
   "cell_type": "markdown",
   "metadata": {},
   "source": [
    "Write data to use it in R."
   ]
  },
  {
   "cell_type": "code",
   "execution_count": 3,
   "metadata": {},
   "outputs": [
    {
     "name": "stdout",
     "output_type": "stream",
     "text": [
      "Warning: Assuming panel is in wide format, i.e. y[:, 0] refers to T0, y[:, 1] refers to T1, etc.\n",
      "Similarly, assuming x[:, 0:T] refers to T periods of k1, x[:, T+1:2T] refers to k2, etc.\n"
     ]
    }
   ],
   "source": [
    "# pd.DataFrame(w.full()[0]).to_csv(\"data/sub_NAT_w.csv\", index=False, header=False)\n",
    "# y, x, name_y, name_x = spreg.panel_utils.check_panel(y, x, w, name_y, name_x)\n",
    "# db_reg = pd.DataFrame(np.hstack((y, x)), columns=[\"HR\", \"RD\", \"PS\"])\n",
    "# db_reg[\"YEAR\"] = np.repeat(np.array([1, 2, 3]), 372)\n",
    "# db_reg[\"FIPSNO\"] = np.tile(subid, reps=3)\n",
    "# db_reg.to_csv(\"data/sub_NAT.csv\", index=False)"
   ]
  },
  {
   "cell_type": "markdown",
   "metadata": {},
   "source": [
    "## splm"
   ]
  },
  {
   "cell_type": "code",
   "execution_count": 1,
   "metadata": {},
   "outputs": [
    {
     "name": "stderr",
     "output_type": "stream",
     "text": [
      "Loading required package: spdep\n",
      "\n",
      "Loading required package: sp\n",
      "\n",
      "Loading required package: spData\n",
      "\n",
      "To access larger datasets in this package, install the\n",
      "spDataLarge package with: `install.packages('spDataLarge',\n",
      "repos='https://nowosad.github.io/drat/', type='source')`\n",
      "\n",
      "Loading required package: sf\n",
      "\n",
      "Linking to GEOS 3.8.0, GDAL 3.0.4, PROJ 6.3.1\n",
      "\n"
     ]
    }
   ],
   "source": [
    "### set options\n",
    "options(prompt = \"R> \",  continue = \"+ \", width = 70, useFancyQuotes = FALSE, warn = -1)\n",
    "\n",
    "### load library\n",
    "library(\"splm\")"
   ]
  },
  {
   "cell_type": "code",
   "execution_count": 3,
   "metadata": {},
   "outputs": [],
   "source": [
    "## read data\n",
    "nat <- read.csv(\"data/sub_NAT.csv\", header = TRUE)\n",
    "## set formula\n",
    "fm <- HR ~ RD + PS\n",
    "wnat <- as.matrix(read.csv(\"data/sub_NAT_w.csv\", header = FALSE))\n",
    "## standardization\n",
    "wnat <- wnat/apply(wnat, 1, sum)\n",
    "## make it a listw\n",
    "lwnat <- mat2listw(wnat)"
   ]
  },
  {
   "cell_type": "code",
   "execution_count": 4,
   "metadata": {},
   "outputs": [],
   "source": [
    "col_order <- c(\"FIPSNO\", \"YEAR\", \"HR\", \"RD\", \"PS\")\n",
    "nat <- nat[, col_order]"
   ]
  },
  {
   "cell_type": "code",
   "execution_count": 7,
   "metadata": {},
   "outputs": [],
   "source": [
    "fixed_error = spml(HR ~ RD + PS, data=nat, listw=lwnat, effect=\"individual\",\n",
    "                 model=\"random\", spatial.error=\"none\", lag=TRUE)"
   ]
  },
  {
   "cell_type": "code",
   "execution_count": 8,
   "metadata": {},
   "outputs": [
    {
     "data": {
      "text/plain": [
       "ML panel with spatial lag, random effects \n",
       "\n",
       "Call:\n",
       "spreml(formula = formula, data = data, index = index, w = listw2mat(listw), \n",
       "    w2 = listw2mat(listw2), lag = lag, errors = errors, cl = cl)\n",
       "\n",
       "Residuals:\n",
       "   Min. 1st Qu.  Median    Mean 3rd Qu.    Max. \n",
       " -8.379  -1.809   0.278   1.349   3.375  39.269 \n",
       "\n",
       "Error variance parameters:\n",
       "    Estimate Std. Error t-value  Pr(>|t|)    \n",
       "phi 0.378582   0.064757  5.8462 5.029e-09 ***\n",
       "\n",
       "Spatial autoregressive coefficient:\n",
       "       Estimate Std. Error t-value  Pr(>|t|)    \n",
       "lambda 0.258468   0.038933  6.6389 3.161e-11 ***\n",
       "\n",
       "Coefficients:\n",
       "            Estimate Std. Error t-value  Pr(>|t|)    \n",
       "(Intercept)  4.44422    0.18643 23.8390 < 2.2e-16 ***\n",
       "RD           2.52822    0.20697 12.2155 < 2.2e-16 ***\n",
       "PS           2.24769    0.23089  9.7347 < 2.2e-16 ***\n",
       "---\n",
       "Signif. codes:  0 '***' 0.001 '**' 0.01 '*' 0.05 '.' 0.1 ' ' 1\n"
      ]
     },
     "metadata": {},
     "output_type": "display_data"
    }
   ],
   "source": [
    "summary(fixed_error)"
   ]
  },
  {
   "cell_type": "code",
   "execution_count": 9,
   "metadata": {},
   "outputs": [
    {
     "data": {
      "text/html": [
       "<table>\n",
       "<caption>A matrix: 3 × 3 of type dbl</caption>\n",
       "<thead>\n",
       "\t<tr><th></th><th scope=col>(Intercept)</th><th scope=col>RD</th><th scope=col>PS</th></tr>\n",
       "</thead>\n",
       "<tbody>\n",
       "\t<tr><th scope=row>(Intercept)</th><td> 0.034754804</td><td>-0.0021053688</td><td>0.0155846231</td></tr>\n",
       "\t<tr><th scope=row>RD</th><td>-0.002105369</td><td> 0.0428358261</td><td>0.0008535634</td></tr>\n",
       "\t<tr><th scope=row>PS</th><td> 0.015584623</td><td> 0.0008535634</td><td>0.0533123892</td></tr>\n",
       "</tbody>\n",
       "</table>\n"
      ],
      "text/latex": [
       "A matrix: 3 × 3 of type dbl\n",
       "\\begin{tabular}{r|lll}\n",
       "  & (Intercept) & RD & PS\\\\\n",
       "\\hline\n",
       "\t(Intercept) &  0.034754804 & -0.0021053688 & 0.0155846231\\\\\n",
       "\tRD & -0.002105369 &  0.0428358261 & 0.0008535634\\\\\n",
       "\tPS &  0.015584623 &  0.0008535634 & 0.0533123892\\\\\n",
       "\\end{tabular}\n"
      ],
      "text/markdown": [
       "\n",
       "A matrix: 3 × 3 of type dbl\n",
       "\n",
       "| <!--/--> | (Intercept) | RD | PS |\n",
       "|---|---|---|---|\n",
       "| (Intercept) |  0.034754804 | -0.0021053688 | 0.0155846231 |\n",
       "| RD | -0.002105369 |  0.0428358261 | 0.0008535634 |\n",
       "| PS |  0.015584623 |  0.0008535634 | 0.0533123892 |\n",
       "\n"
      ],
      "text/plain": [
       "            (Intercept)  RD            PS          \n",
       "(Intercept)  0.034754804 -0.0021053688 0.0155846231\n",
       "RD          -0.002105369  0.0428358261 0.0008535634\n",
       "PS           0.015584623  0.0008535634 0.0533123892"
      ]
     },
     "metadata": {},
     "output_type": "display_data"
    }
   ],
   "source": [
    "fixed_error$vcov"
   ]
  },
  {
   "cell_type": "code",
   "execution_count": 10,
   "metadata": {},
   "outputs": [
    {
     "data": {
      "text/html": [
       "-3268.79252267922"
      ],
      "text/latex": [
       "-3268.79252267922"
      ],
      "text/markdown": [
       "-3268.79252267922"
      ],
      "text/plain": [
       "[1] -3268.793"
      ]
     },
     "metadata": {},
     "output_type": "display_data"
    }
   ],
   "source": [
    "fixed_error$logLik"
   ]
  },
  {
   "cell_type": "code",
   "execution_count": 11,
   "metadata": {},
   "outputs": [
    {
     "data": {
      "text/html": [
       "<style>\n",
       ".dl-inline {width: auto; margin:0; padding: 0}\n",
       ".dl-inline>dt, .dl-inline>dd {float: none; width: auto; display: inline-block}\n",
       ".dl-inline>dt::after {content: \":\\0020\"; padding-right: .5ex}\n",
       ".dl-inline>dt:not(:first-of-type) {padding-left: .5ex}\n",
       "</style><dl class=dl-inline><dt>(Intercept)</dt><dd>4.4442198986205</dd><dt>RD</dt><dd>2.52821719796491</dd><dt>PS</dt><dd>2.24768845765985</dd></dl>\n"
      ],
      "text/latex": [
       "\\begin{description*}\n",
       "\\item[(Intercept)] 4.4442198986205\n",
       "\\item[RD] 2.52821719796491\n",
       "\\item[PS] 2.24768845765985\n",
       "\\end{description*}\n"
      ],
      "text/markdown": [
       "(Intercept)\n",
       ":   4.4442198986205RD\n",
       ":   2.52821719796491PS\n",
       ":   2.24768845765985\n",
       "\n"
      ],
      "text/plain": [
       "(Intercept)          RD          PS \n",
       "   4.444220    2.528217    2.247688 "
      ]
     },
     "metadata": {},
     "output_type": "display_data"
    }
   ],
   "source": [
    "fixed_error$coefficients"
   ]
  },
  {
   "cell_type": "code",
   "execution_count": 27,
   "metadata": {},
   "outputs": [
    {
     "data": {
      "text/plain": [
       "array([[4.44421994],\n",
       "       [2.52821721],\n",
       "       [2.24768847],\n",
       "       [0.25846846]])"
      ]
     },
     "execution_count": 27,
     "metadata": {},
     "output_type": "execute_result"
    }
   ],
   "source": [
    "model.betas"
   ]
  },
  {
   "cell_type": "code",
   "execution_count": 12,
   "metadata": {},
   "outputs": [
    {
     "data": {
      "text/plain": [
       "array([[ 0.08734092,  0.02023711,  0.03151881, -0.00930926],\n",
       "       [ 0.02023711,  0.05232857,  0.00762358, -0.00395526],\n",
       "       [ 0.03151881,  0.00762358,  0.05814063, -0.00282081],\n",
       "       [-0.00930926, -0.00395526, -0.00282081,  0.00164801]])"
      ]
     },
     "execution_count": 12,
     "metadata": {},
     "output_type": "execute_result"
    }
   ],
   "source": [
    "np.around(model.vm, decimals=8)"
   ]
  },
  {
   "cell_type": "code",
   "execution_count": 29,
   "metadata": {},
   "outputs": [
    {
     "data": {
      "text/plain": [
       "array([0.29552935, 0.22875307, 0.24112304, 0.04059436])"
      ]
     },
     "execution_count": 29,
     "metadata": {},
     "output_type": "execute_result"
    }
   ],
   "source": [
    "model.std_err"
   ]
  },
  {
   "cell_type": "code",
   "execution_count": 30,
   "metadata": {},
   "outputs": [
    {
     "data": {
      "text/plain": [
       "-3127.652781115621"
      ]
     },
     "execution_count": 30,
     "metadata": {},
     "output_type": "execute_result"
    }
   ],
   "source": [
    "model.logll"
   ]
  },
  {
   "cell_type": "code",
   "execution_count": null,
   "metadata": {},
   "outputs": [],
   "source": []
  }
 ],
 "metadata": {
  "kernelspec": {
   "display_name": "Python 3",
   "language": "python",
   "name": "python3"
  },
  "language_info": {
   "codemirror_mode": {
    "name": "ipython",
    "version": 3
   },
   "file_extension": ".py",
   "mimetype": "text/x-python",
   "name": "python",
   "nbconvert_exporter": "python",
   "pygments_lexer": "ipython3",
   "version": "3.7.6"
  }
 },
 "nbformat": 4,
 "nbformat_minor": 4
}
