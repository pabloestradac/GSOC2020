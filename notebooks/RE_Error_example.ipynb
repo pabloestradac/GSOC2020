{
 "cells": [
  {
   "cell_type": "markdown",
   "metadata": {},
   "source": [
    "# Random Effects Panel - Spatial Error Model\n",
    "\n",
    "This notebook contains the same example of the class `GM_KKP` from `pysal.spreg`."
   ]
  },
  {
   "cell_type": "markdown",
   "metadata": {},
   "source": [
    "We first need to import the needed modules, namely numpy to convert the data we read into arrays that `spreg` understands and `pysal` to perform all the analysis."
   ]
  },
  {
   "cell_type": "code",
   "execution_count": 1,
   "metadata": {},
   "outputs": [],
   "source": [
    "from spreg import GM_KKP\n",
    "import numpy as np\n",
    "import libpysal\n",
    "from libpysal.examples import load_example\n",
    "from libpysal.weights import Queen"
   ]
  },
  {
   "cell_type": "markdown",
   "metadata": {},
   "source": [
    "Open data on NCOVR US County Homicides (3085 areas) using `libpysal.io.open()`. This is the DBF associated with the NAT shapefile. Note that `libpysal.io.open()` also reads data in CSV format; The `GM_KKP` function requires data to be passed in as numpy arrays, hence the user can read their data in using any method."
   ]
  },
  {
   "cell_type": "code",
   "execution_count": 2,
   "metadata": {},
   "outputs": [],
   "source": [
    "nat = libpysal.examples.load_example('NCOVR')\n",
    "db = libpysal.io.open(nat.get_path(\"NAT.dbf\"),'r')"
   ]
  },
  {
   "cell_type": "markdown",
   "metadata": {},
   "source": [
    "Extract the HR (homicide rates) data in the 70's, 80's and 90's from the DBF file and make it the dependent variable for the regression. Note that the data can also be passed in the long format instead of wide format (i.e. a vector with $n \\times t$ rows and a single column for the dependent variable and a matrix of dimension $n \\times (t \\ast k)$ for the independent variables)."
   ]
  },
  {
   "cell_type": "code",
   "execution_count": 3,
   "metadata": {},
   "outputs": [],
   "source": [
    "name_y = [\"HR70\", \"HR80\", \"HR90\"]\n",
    "y = np.array([db.by_col(name) for name in name_y]).T"
   ]
  },
  {
   "cell_type": "markdown",
   "metadata": {},
   "source": [
    "Extract RD and PS in the same time periods from the DBF to be used as independent variables in the regression.  Note that PySAL requires this to be an $n \\times (t \\ast k)$ numpy array, where $k$ is the number of independent variables (not including a constant) and $t$ is the number of time periods. Data must be organized in a way that all time periods of a given variable are side-by-side and in the correct time order. By default a vector of ones will be added to the independent variables passed in."
   ]
  },
  {
   "cell_type": "code",
   "execution_count": 4,
   "metadata": {},
   "outputs": [],
   "source": [
    "name_x = [\"RD70\", \"RD80\", \"RD90\", \"PS70\", \"PS80\", \"PS90\"]\n",
    "x = np.array([db.by_col(name) for name in name_x]).T"
   ]
  },
  {
   "cell_type": "markdown",
   "metadata": {},
   "source": [
    "Since we want to run a spatial error panel model, we need to specify the spatial weights matrix that includes the spatial configuration of the observations into the error component of the model. To do that, we can open an already existing gal file or create a new one. In this case, we will create one from `NAT.shp`."
   ]
  },
  {
   "cell_type": "code",
   "execution_count": 5,
   "metadata": {},
   "outputs": [],
   "source": [
    "nat_shp = libpysal.examples.get_path(\"NAT.shp\")\n",
    "w = Queen.from_shapefile(nat_shp)\n",
    "w.transform = 'r'  "
   ]
  },
  {
   "cell_type": "markdown",
   "metadata": {},
   "source": [
    "We are all set with the preliminaries, we are good to run the model. In this\n",
    "    case, we will need the variables and the weights matrix. If we want to\n",
    "    have the names of the variables printed in the output summary, we will\n",
    "    have to pass them in as well, although this is optional. In this example\n",
    "    we set full_weights to False (the default), indicating that we will use\n",
    "    only 2 sets of moments weights for the first 3 and the last 3 moment conditions."
   ]
  },
  {
   "cell_type": "code",
   "execution_count": 6,
   "metadata": {},
   "outputs": [
    {
     "name": "stdout",
     "output_type": "stream",
     "text": [
      "Warning: Assuming time data is in wide format, i.e. y[0] refers to T0, y[1], refers to T1, etc.\n",
      " Similarly, assuming x[0:k] refers to independent variables for T0, x[k+1:2k] refers to T1, etc.\n"
     ]
    }
   ],
   "source": [
    "reg = GM_KKP(y,x,w,full_weights=False,name_y=name_y, name_x=name_x)"
   ]
  },
  {
   "cell_type": "markdown",
   "metadata": {},
   "source": [
    "Once we have run the model, we can explore a little bit the output. We can\n",
    "    either request a printout of the results with the command print(reg.summary) or\n",
    "    check out the individual attributes of GM_KKP:"
   ]
  },
  {
   "cell_type": "code",
   "execution_count": 7,
   "metadata": {},
   "outputs": [
    {
     "name": "stdout",
     "output_type": "stream",
     "text": [
      "REGRESSION\n",
      "----------\n",
      "SUMMARY OF OUTPUT: GM SPATIAL ERROR PANEL MODEL - RANDOM EFFECTS (KKP)\n",
      "----------------------------------------------------------------------\n",
      "Data set            :     unknown\n",
      "Weights matrix      :     unknown\n",
      "Dependent Variable  :          HR                Number of Observations:        3085\n",
      "Mean dependent var  :      6.4983                Number of Variables   :           3\n",
      "S.D. dependent var  :      6.9529                Degrees of Freedom    :        3082\n",
      "Pseudo R-squared    :      0.3248\n",
      "\n",
      "------------------------------------------------------------------------------------\n",
      "            Variable     Coefficient       Std.Error     z-Statistic     Probability\n",
      "------------------------------------------------------------------------------------\n",
      "            CONSTANT       6.4922156       0.1126713      57.6208650       0.0000000\n",
      "                  RD       3.6244575       0.0877475      41.3055527       0.0000000\n",
      "                  PS       1.3118778       0.0852516      15.3883055       0.0000000\n",
      "              lambda       0.4177759    \n",
      "            sigma2_v      22.8190821    \n",
      "            sigma2_1      39.9099297    \n",
      "------------------------------------------------------------------------------------\n",
      "================================ END OF REPORT =====================================\n"
     ]
    }
   ],
   "source": [
    "print(reg.summary)"
   ]
  },
  {
   "cell_type": "code",
   "execution_count": 9,
   "metadata": {},
   "outputs": [
    {
     "name": "stdout",
     "output_type": "stream",
     "text": [
      "['CONSTANT', 'RD', 'PS', 'lambda', ' sigma2_v', 'sigma2_1']\n"
     ]
    }
   ],
   "source": [
    "print(reg.name_x)"
   ]
  },
  {
   "cell_type": "code",
   "execution_count": 10,
   "metadata": {},
   "outputs": [
    {
     "name": "stdout",
     "output_type": "stream",
     "text": [
      "[[ 6.4922]\n",
      " [ 3.6245]\n",
      " [ 1.3119]\n",
      " [ 0.4178]\n",
      " [22.8191]\n",
      " [39.9099]]\n"
     ]
    }
   ],
   "source": [
    "print(np.around(reg.betas,4))"
   ]
  },
  {
   "cell_type": "code",
   "execution_count": 11,
   "metadata": {},
   "outputs": [
    {
     "name": "stdout",
     "output_type": "stream",
     "text": [
      "[[0.1127]\n",
      " [0.0877]\n",
      " [0.0853]]\n"
     ]
    }
   ],
   "source": [
    "print(np.around(np.sqrt(reg.vm.diagonal().reshape(3,1)),4))"
   ]
  },
  {
   "cell_type": "code",
   "execution_count": null,
   "metadata": {},
   "outputs": [],
   "source": []
  }
 ],
 "metadata": {
  "kernelspec": {
   "display_name": "Python 3",
   "language": "python",
   "name": "python3"
  },
  "language_info": {
   "codemirror_mode": {
    "name": "ipython",
    "version": 3
   },
   "file_extension": ".py",
   "mimetype": "text/x-python",
   "name": "python",
   "nbconvert_exporter": "python",
   "pygments_lexer": "ipython3",
   "version": "3.7.6"
  }
 },
 "nbformat": 4,
 "nbformat_minor": 4
}
