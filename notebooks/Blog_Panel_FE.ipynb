{
 "cells": [
  {
   "cell_type": "markdown",
   "metadata": {},
   "source": [
    "<!-- This post aims to give a practical introduction to Spatial Econometrics models when you have panel data. Spatial models help to make estimations considering the presence of geographical units.  -->\n",
    "\n",
    "In this post I want to show you some of the estimations I'm working on for the GSoC project of Spatial Econometrics with panel data in PySAL. Specifically, I will focus on estimating the relationship of the Homicides Rates with a variable of Resources and Population. For the estimation, I will use a panel of 3085 counties of US for three decades. The panel model will account for fixed effects. \n",
    "\n",
    "In a second post, I will talk about the estimation with random effects and how to choose the best model."
   ]
  },
  {
   "cell_type": "code",
   "execution_count": 4,
   "metadata": {},
   "outputs": [],
   "source": [
    "import numpy as np\n",
    "import libpysal\n",
    "import spreg"
   ]
  },
  {
   "cell_type": "markdown",
   "metadata": {},
   "source": [
    "## Data"
   ]
  },
  {
   "cell_type": "markdown",
   "metadata": {},
   "source": [
    "I'm going to use the data of NCOVR US County Homicides (3085 areas). The dependent variable will be the **Homicide Rates**, and the independent variables are the **Resource Deprivation** (principal component composed of percent black, log of median family income, gini index of family income inequality, and more), and also the **Population Structure** (principal component composed of the log of population and the log of population density). Finally, the time period will be three decades: 1970, 1980, and 1990."
   ]
  },
  {
   "cell_type": "code",
   "execution_count": 13,
   "metadata": {},
   "outputs": [],
   "source": [
    "# Open data on NCOVR US County Homicides (3085 areas).\n",
    "nat = libpysal.examples.load_example(\"NCOVR\")\n",
    "db = libpysal.io.open(nat.get_path(\"NAT.dbf\"), \"r\")\n",
    "\n",
    "# Create spatial weight matrix\n",
    "nat_shp = libpysal.examples.get_path(\"NAT.shp\")\n",
    "w = libpysal.weights.Queen.from_shapefile(nat_shp)\n",
    "w.transform = 'r'\n",
    "\n",
    "# Define dependent variable\n",
    "name_y = [\"HR70\", \"HR80\", \"HR90\"]\n",
    "y = np.array([db.by_col(name) for name in name_y]).T\n",
    "\n",
    "# Define independent variables\n",
    "name_x = [\"RD70\", \"RD80\", \"RD90\", \"PS70\", \"PS80\", \"PS90\"]\n",
    "x = np.array([db.by_col(name) for name in name_x]).T"
   ]
  },
  {
   "cell_type": "markdown",
   "metadata": {},
   "source": [
    "## Spatial Lag model"
   ]
  },
  {
   "cell_type": "markdown",
   "metadata": {},
   "source": [
    "Let's estimate a spatial lag panel model with fixed effects:\n",
    "\n",
    "$$\n",
    "y_{it} = \\rho \\sum_{j=1}^N w_{ij} y_{jt}  +  x_{it} \\beta  +  \\mu_i  +  e_{it}\n",
    "$$\n",
    "\n",
    "Where $\\sum_{j=1}^N w_{ij} y_{jt}$ represents the mean homicide rate of the neighbors of county $i$."
   ]
  },
  {
   "cell_type": "code",
   "execution_count": 3,
   "metadata": {},
   "outputs": [
    {
     "name": "stdout",
     "output_type": "stream",
     "text": [
      "Warning: Assuming panel is in wide format, i.e. y[:, 0] refers to T0, y[:, 1] refers to T1, etc.\n",
      "Similarly, assuming x[:, 0:T] refers to T periods of k1, x[:, T+1:2T] refers to k2, etc.\n"
     ]
    }
   ],
   "source": [
    "fe_lag = spreg.Panel_FE_Lag(y, x, w, name_y=name_y, name_x=name_x, name_ds=\"NAT\")"
   ]
  },
  {
   "cell_type": "code",
   "execution_count": 4,
   "metadata": {},
   "outputs": [
    {
     "name": "stdout",
     "output_type": "stream",
     "text": [
      "REGRESSION\n",
      "----------\n",
      "SUMMARY OF OUTPUT: MAXIMUM LIKELIHOOD SPATIAL LAG PANEL - FIXED EFFECTS\n",
      "-----------------------------------------------------------------------\n",
      "Data set            :         NAT\n",
      "Weights matrix      :     unknown\n",
      "Dependent Variable  :          HR                Number of Observations:        9255\n",
      "Mean dependent var  :      0.0000                Number of Variables   :           3\n",
      "S.D. dependent var  :      3.9228                Degrees of Freedom    :        9252\n",
      "Pseudo R-squared    :      0.0319\n",
      "Spatial Pseudo R-squared:  0.0079\n",
      "Sigma-square ML     :      14.935                Log likelihood        :  -67936.533\n",
      "S.E of regression   :       3.865                Akaike info criterion :  135879.066\n",
      "                                                 Schwarz criterion     :  135900.465\n",
      "\n",
      "------------------------------------------------------------------------------------\n",
      "            Variable     Coefficient       Std.Error     z-Statistic     Probability\n",
      "------------------------------------------------------------------------------------\n",
      "                  RD       0.8005886       0.1614474       4.9588189       0.0000007\n",
      "                  PS      -2.6003523       0.4935486      -5.2686851       0.0000001\n",
      "                W_HR       0.1903043       0.0159991      11.8947008       0.0000000\n",
      "------------------------------------------------------------------------------------\n",
      "================================ END OF REPORT =====================================\n"
     ]
    }
   ],
   "source": [
    "print(fe_lag.summary)"
   ]
  },
  {
   "cell_type": "markdown",
   "metadata": {},
   "source": [
    "All the coefficients are statistically significant. Resource Deprivation has a positive relationship with Homicides Rates. On the other hand, the Population Structure has a negative relationship with the Homicides Rate of the counties. Finally, there is evidence that there is spatial interaction between the Homicides Rates of the counties."
   ]
  },
  {
   "cell_type": "markdown",
   "metadata": {},
   "source": [
    "## Spatial Durbin model"
   ]
  },
  {
   "cell_type": "markdown",
   "metadata": {},
   "source": [
    "Let's estimate a spatial Durbin panel model with fixed effects:\n",
    "\n",
    "$$\n",
    "y_{it} = \\rho \\sum_{j=1}^N w_{ij} y_{jt}  +  \\theta \\sum_{j=1}^N w_{ij} x_{jt}  +  x_{it} \\beta  +  \\mu_i  +  e_{it}\n",
    "$$\n",
    "\n",
    "Where $\\sum_{j=1}^N w_{ij} x_{jt}$ represents the mean resource deprivation and mean population structure of the neighbors of county $i$."
   ]
  },
  {
   "cell_type": "code",
   "execution_count": 14,
   "metadata": {},
   "outputs": [
    {
     "name": "stdout",
     "output_type": "stream",
     "text": [
      "Warning: Assuming panel is in wide format, i.e. y[:, 0] refers to T0, y[:, 1] refers to T1, etc.\n",
      "Similarly, assuming x[:, 0:T] refers to T periods of k1, x[:, T+1:2T] refers to k2, etc.\n"
     ]
    }
   ],
   "source": [
    "name_x_durbin = [\"RD70\", \"RD80\", \"RD90\", \"PS70\", \"PS80\", \"PS90\", \"W_RD70\", \"W_RD80\", \"W_RD90\", \"W_PS70\", \"W_PS80\", \"W_PS90\"]\n",
    "xlag = w.full()[0] @ x\n",
    "x_durbin = np.hstack((x, xlag))\n",
    "fe_durbin = spreg.Panel_FE_Lag(y, x_durbin, w, name_y=name_y, name_x=name_x_durbin, name_ds=\"NAT\")"
   ]
  },
  {
   "cell_type": "code",
   "execution_count": 15,
   "metadata": {},
   "outputs": [
    {
     "name": "stdout",
     "output_type": "stream",
     "text": [
      "REGRESSION\n",
      "----------\n",
      "SUMMARY OF OUTPUT: MAXIMUM LIKELIHOOD SPATIAL LAG PANEL - FIXED EFFECTS\n",
      "-----------------------------------------------------------------------\n",
      "Data set            :         NAT\n",
      "Weights matrix      :     unknown\n",
      "Dependent Variable  :          HR                Number of Observations:        9255\n",
      "Mean dependent var  :      0.0000                Number of Variables   :           5\n",
      "S.D. dependent var  :      3.9228                Degrees of Freedom    :        9250\n",
      "Pseudo R-squared    :      0.0332\n",
      "Spatial Pseudo R-squared:  0.0088\n",
      "Sigma-square ML     :      14.916                Log likelihood        :  -67931.868\n",
      "S.E of regression   :       3.862                Akaike info criterion :  135873.736\n",
      "                                                 Schwarz criterion     :  135909.400\n",
      "\n",
      "------------------------------------------------------------------------------------\n",
      "            Variable     Coefficient       Std.Error     z-Statistic     Probability\n",
      "------------------------------------------------------------------------------------\n",
      "                  RD       0.9447922       0.1902488       4.9660866       0.0000007\n",
      "                  PS      -3.4882306       0.6842330      -5.0980155       0.0000003\n",
      "                W_RD      -0.5184882       0.2888065      -1.7952792       0.0726092\n",
      "                W_PS       1.7251554       0.9116001       1.8924476       0.0584314\n",
      "                W_HR       0.1940036       0.0160269      12.1048752       0.0000000\n",
      "------------------------------------------------------------------------------------\n",
      "================================ END OF REPORT =====================================\n"
     ]
    }
   ],
   "source": [
    "print(fe_durbin.summary)"
   ]
  },
  {
   "cell_type": "markdown",
   "metadata": {},
   "source": [
    "The coefficients for the Durbin model are statistically significant at least at a 10%. It is interesting that the spatial lag variables for Resource Deprivation and Population Structure have the opposite sign in the coefficients."
   ]
  },
  {
   "cell_type": "markdown",
   "metadata": {},
   "source": [
    "### Spatial Error model\n",
    "\n",
    "Now, let's estimate a spatial error panel model with fixed effects:\n",
    "\n",
    "$$\n",
    "y_{it} = x_{it} \\beta  +  \\mu_i  +  v_{it}\n",
    "$$\n",
    "\n",
    "where\n",
    "\n",
    "$$\n",
    "v_{it} = \\lambda \\sum_{j=1}^N w_{ij} v_{jt}  +  e_{it}\n",
    "$$"
   ]
  },
  {
   "cell_type": "code",
   "execution_count": 6,
   "metadata": {},
   "outputs": [
    {
     "name": "stdout",
     "output_type": "stream",
     "text": [
      "Warning: Assuming panel is in wide format, i.e. y[:, 0] refers to T0, y[:, 1] refers to T1, etc.\n",
      "Similarly, assuming x[:, 0:T] refers to T periods of k1, x[:, T+1:2T] refers to k2, etc.\n"
     ]
    }
   ],
   "source": [
    "fe_error = spreg.Panel_FE_Error(y, x, w, name_y=name_y, name_x=name_x, name_ds=\"NAT\")"
   ]
  },
  {
   "cell_type": "code",
   "execution_count": 7,
   "metadata": {},
   "outputs": [
    {
     "name": "stdout",
     "output_type": "stream",
     "text": [
      "REGRESSION\n",
      "----------\n",
      "SUMMARY OF OUTPUT: MAXIMUM LIKELIHOOD SPATIAL ERROR PANEL - FIXED EFFECTS\n",
      "-------------------------------------------------------------------------\n",
      "Data set            :         NAT\n",
      "Weights matrix      :     unknown\n",
      "Dependent Variable  :          HR                Number of Observations:        9255\n",
      "Mean dependent var  :      0.0000                Number of Variables   :           2\n",
      "S.D. dependent var  :      3.9228                Degrees of Freedom    :        9253\n",
      "Pseudo R-squared    :      0.0000\n",
      "Sigma-square ML     :      68.951                Log likelihood        :  -67934.005\n",
      "S.E of regression   :       8.304                Akaike info criterion :  135872.010\n",
      "                                                 Schwarz criterion     :  135886.276\n",
      "\n",
      "------------------------------------------------------------------------------------\n",
      "            Variable     Coefficient       Std.Error     z-Statistic     Probability\n",
      "------------------------------------------------------------------------------------\n",
      "                  RD       0.8697923       0.3692968       2.3552662       0.0185094\n",
      "                  PS      -2.9660674       1.1703765      -2.5342849       0.0112677\n",
      "              lambda       0.1943460       0.0160253      12.1274197       0.0000000\n",
      "------------------------------------------------------------------------------------\n",
      "================================ END OF REPORT =====================================\n"
     ]
    }
   ],
   "source": [
    "print(fe_error.summary)"
   ]
  },
  {
   "cell_type": "markdown",
   "metadata": {},
   "source": [
    "Again, all the coefficients are statistically significant. Also, the coefficients are very similar to the ones estimated in the Spatial Lag model."
   ]
  },
  {
   "cell_type": "markdown",
   "metadata": {},
   "source": [
    "## Conclusions"
   ]
  },
  {
   "cell_type": "markdown",
   "metadata": {},
   "source": [
    "Three models have been estimated using spatial econometrics in a panel data setting. The next step would be to apply some diagnostic tests to assess the best model. Before doing that, it is necessary to also estimate the model using random effects instead of fixed effects. "
   ]
  }
 ],
 "metadata": {
  "kernelspec": {
   "display_name": "Python 3",
   "language": "python",
   "name": "python3"
  },
  "language_info": {
   "codemirror_mode": {
    "name": "ipython",
    "version": 3
   },
   "file_extension": ".py",
   "mimetype": "text/x-python",
   "name": "python",
   "nbconvert_exporter": "python",
   "pygments_lexer": "ipython3",
   "version": "3.7.6"
  }
 },
 "nbformat": 4,
 "nbformat_minor": 4
}
