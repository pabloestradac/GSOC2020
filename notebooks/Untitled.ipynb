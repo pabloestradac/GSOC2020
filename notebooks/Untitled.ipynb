{
 "cells": [
  {
   "cell_type": "code",
   "execution_count": 7,
   "metadata": {},
   "outputs": [],
   "source": [
    "import numpy as np\n",
    "import libpysal\n",
    "from libpysal.examples import load_example\n",
    "from libpysal.weights import Queen\n",
    "from spreg import ML_Error_Regimes\n",
    "import geopandas as gpd\n",
    "from spreg import ML_Lag"
   ]
  },
  {
   "cell_type": "code",
   "execution_count": 8,
   "metadata": {},
   "outputs": [
    {
     "name": "stdout",
     "output_type": "stream",
     "text": [
      "Already downloaded\n"
     ]
    }
   ],
   "source": [
    "np.set_printoptions(suppress=True) #prevent scientific format\n",
    "baltimore = load_example('Baltimore')\n",
    "db = libpysal.io.open(baltimore.get_path(\"baltim.dbf\"),'r')\n",
    "df = gpd.read_file(baltimore.get_path(\"baltim.shp\"))\n",
    "ds_name = \"baltim.dbf\"\n",
    "y_name = \"PRICE\"\n",
    "y = np.array(db.by_col(y_name)).T\n",
    "y.shape = (len(y), 1)\n",
    "x_names = [\"NROOM\",\"NBATH\",\"PATIO\",\"FIREPL\",\"AC\",\"GAR\",\"AGE\",\"LOTSZ\",\"SQFT\"]\n",
    "x = np.array([db.by_col(var) for var in x_names]).T\n",
    "w = Queen.from_dataframe(df)\n",
    "w_name = \"baltim_q.gal\"\n",
    "w.transform = 'r'"
   ]
  },
  {
   "cell_type": "code",
   "execution_count": 12,
   "metadata": {},
   "outputs": [
    {
     "name": "stderr",
     "output_type": "stream",
     "text": [
      "C:\\Users\\pablo\\anaconda3\\lib\\site-packages\\scipy\\optimize\\_minimize.py:770: RuntimeWarning: Method 'bounded' does not support relative tolerance in x; defaulting to absolute tolerance.\n",
      "  \"defaulting to absolute tolerance.\", RuntimeWarning)\n"
     ]
    }
   ],
   "source": [
    "mllag = ML_Lag(y,x,w,method='ord',name_y=y_name,name_x=x_names,\\\n",
    "               name_w=w_name,name_ds=ds_name, spat_diag=True) #doctest: +SKIP"
   ]
  },
  {
   "cell_type": "code",
   "execution_count": 13,
   "metadata": {},
   "outputs": [
    {
     "name": "stdout",
     "output_type": "stream",
     "text": [
      "REGRESSION\n",
      "----------\n",
      "SUMMARY OF OUTPUT: MAXIMUM LIKELIHOOD SPATIAL LAG (METHOD = ORD)\n",
      "----------------------------------------------------------------\n",
      "Data set            :  baltim.dbf\n",
      "Weights matrix      :baltim_q.gal\n",
      "Dependent Variable  :       PRICE                Number of Observations:         211\n",
      "Mean dependent var  :     44.3072                Number of Variables   :          11\n",
      "S.D. dependent var  :     23.6061                Degrees of Freedom    :         200\n",
      "Pseudo R-squared    :      0.7248\n",
      "Spatial Pseudo R-squared:  0.7048\n",
      "Sigma-square ML     :     152.717                Log likelihood        :    -833.659\n",
      "S.E of regression   :      12.358                Akaike info criterion :    1689.318\n",
      "                                                 Schwarz criterion     :    1726.188\n",
      "\n",
      "------------------------------------------------------------------------------------\n",
      "            Variable     Coefficient       Std.Error     z-Statistic     Probability\n",
      "------------------------------------------------------------------------------------\n",
      "            CONSTANT       4.8932776       4.9070184       0.9971998       0.3186676\n",
      "               NROOM       0.6690186       1.0639161       0.6288264       0.5294627\n",
      "               NBATH       5.7431462       1.7552437       3.2719936       0.0010679\n",
      "               PATIO       7.0520977       2.7216085       2.5911507       0.0095656\n",
      "              FIREPL       7.9062226       2.3897600       3.3083752       0.0009384\n",
      "                  AC       6.2581365       2.3477348       2.6656062       0.0076850\n",
      "                 GAR       4.7806342       1.7003839       2.8115029       0.0049311\n",
      "                 AGE      -0.1104555       0.0511026      -2.1614460       0.0306609\n",
      "               LOTSZ       0.0685406       0.0146668       4.6731686       0.0000030\n",
      "                SQFT       0.0687641       0.1637970       0.4198130       0.6746220\n",
      "             W_PRICE       0.4187867       0.0575497       7.2769564       0.0000000\n",
      "------------------------------------------------------------------------------------\n",
      "================================ END OF REPORT =====================================\n"
     ]
    }
   ],
   "source": [
    "print(mllag.summary)"
   ]
  },
  {
   "cell_type": "code",
   "execution_count": 11,
   "metadata": {},
   "outputs": [
    {
     "data": {
      "text/plain": [
       "11"
      ]
     },
     "execution_count": 11,
     "metadata": {},
     "output_type": "execute_result"
    }
   ],
   "source": [
    "mllag.k"
   ]
  },
  {
   "cell_type": "code",
   "execution_count": null,
   "metadata": {},
   "outputs": [],
   "source": []
  }
 ],
 "metadata": {
  "kernelspec": {
   "display_name": "Python 3",
   "language": "python",
   "name": "python3"
  },
  "language_info": {
   "codemirror_mode": {
    "name": "ipython",
    "version": 3
   },
   "file_extension": ".py",
   "mimetype": "text/x-python",
   "name": "python",
   "nbconvert_exporter": "python",
   "pygments_lexer": "ipython3",
   "version": "3.7.6"
  }
 },
 "nbformat": 4,
 "nbformat_minor": 4
}
