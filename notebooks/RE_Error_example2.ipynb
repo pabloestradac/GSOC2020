{
 "cells": [
  {
   "cell_type": "markdown",
   "metadata": {},
   "source": [
    "# Fixed Effects Panel - Spatial Lag Model\n",
    "\n",
    "This notebook contains an example of the class `Panel_ML` from `pysal.spreg`."
   ]
  },
  {
   "cell_type": "markdown",
   "metadata": {},
   "source": [
    "## Panel_ML - spreg"
   ]
  },
  {
   "cell_type": "code",
   "execution_count": 14,
   "metadata": {},
   "outputs": [
    {
     "name": "stdout",
     "output_type": "stream",
     "text": [
      "The autoreload extension is already loaded. To reload it, use:\n",
      "  %reload_ext autoreload\n"
     ]
    }
   ],
   "source": [
    "%load_ext autoreload\n",
    "%autoreload 2\n",
    "\n",
    "import numpy as np\n",
    "import pandas as pd\n",
    "import libpysal\n",
    "import spreg\n",
    "\n",
    "np.set_printoptions(suppress=True)"
   ]
  },
  {
   "cell_type": "code",
   "execution_count": 15,
   "metadata": {},
   "outputs": [],
   "source": [
    "from libpysal.weights import w_subset\n",
    "# Open data on NCOVR US County Homicides (3085 areas).\n",
    "nat = libpysal.examples.load_example(\"NCOVR\")\n",
    "db = libpysal.io.open(nat.get_path(\"NAT.dbf\"), \"r\")\n",
    "# Create spatial weight matrix\n",
    "nat_shp = libpysal.examples.get_path(\"NAT.shp\")\n",
    "w_full = libpysal.weights.Queen.from_shapefile(nat_shp)\n",
    "\n",
    "# Define dependent variable\n",
    "name_y = [\"HR70\", \"HR80\", \"HR90\"]\n",
    "y_full = np.array([db.by_col(name) for name in name_y]).T\n",
    "# Define independent variables\n",
    "name_x = [\"RD70\", \"RD80\", \"RD90\", \"PS70\", \"PS80\", \"PS90\"]\n",
    "x_full = np.array([db.by_col(name) for name in name_x]).T\n",
    "\n",
    "epsilon = 0.0000001"
   ]
  },
  {
   "cell_type": "code",
   "execution_count": 16,
   "metadata": {},
   "outputs": [],
   "source": [
    "name_c = [\"STATE_NAME\", \"FIPSNO\"]\n",
    "df_counties = pd.DataFrame([db.by_col(name) for name in name_c], index=name_c).T\n",
    "\n",
    "filter_states = [\"Kansas\", \"Missouri\", \"Oklahoma\", \"Arkansas\"]\n",
    "filter_counties = df_counties[df_counties[\"STATE_NAME\"].isin(filter_states)][\"FIPSNO\"].values\n",
    "\n",
    "counties = np.array(db.by_col(\"FIPSNO\"))\n",
    "subid = np.where(np.isin(counties, filter_counties))[0]\n",
    "\n",
    "w = w_subset(w_full, subid)\n",
    "w.transform = 'r'\n",
    "\n",
    "y = y_full[subid, ]\n",
    "x = x_full[subid, ]"
   ]
  },
  {
   "cell_type": "code",
   "execution_count": 17,
   "metadata": {},
   "outputs": [],
   "source": [
    "# %%timeit\n",
    "# model = spreg.Panel_RE_Lag(y, x, w, name_y=name_y, name_x=name_x, name_ds=\"NAT\")"
   ]
  },
  {
   "cell_type": "code",
   "execution_count": 18,
   "metadata": {},
   "outputs": [
    {
     "name": "stdout",
     "output_type": "stream",
     "text": [
      "Warning: Assuming panel is in wide format, i.e. y[:, 0] refers to T0, y[:, 1] refers to T1, etc.\n",
      "Similarly, assuming x[:, 0:T] refers to T periods of k1, x[:, T+1:2T] refers to k2, etc.\n"
     ]
    }
   ],
   "source": [
    "model = spreg.Panel_RE_Error(y, x, w, name_y=name_y, name_x=name_x, name_ds=\"NAT\")"
   ]
  },
  {
   "cell_type": "code",
   "execution_count": 19,
   "metadata": {},
   "outputs": [
    {
     "name": "stdout",
     "output_type": "stream",
     "text": [
      "REGRESSION\n",
      "----------\n",
      "SUMMARY OF OUTPUT: MAXIMUM LIKELIHOOD SPATIAL ERROR PANEL - RANDOM EFFECTS\n",
      "--------------------------------------------------------------------------\n",
      "Data set            :         NAT\n",
      "Weights matrix      :     unknown\n",
      "Dependent Variable  :          HR                Number of Observations:        1116\n",
      "Mean dependent var  :      5.2728                Number of Variables   :           3\n",
      "S.D. dependent var  :      5.8151                Degrees of Freedom    :        1113\n",
      "Pseudo R-squared    :      0.3256\n",
      "Sigma-square ML     :      16.102                Log likelihood        :   -7183.836\n",
      "S.E of regression   :       4.013                Akaike info criterion :   14373.672\n",
      "                                                 Schwarz criterion     :   14388.725\n",
      "\n",
      "------------------------------------------------------------------------------------\n",
      "            Variable     Coefficient       Std.Error     z-Statistic     Probability\n",
      "------------------------------------------------------------------------------------\n",
      "                  RD       5.8789376       0.2272354      25.8715688       0.0000000\n",
      "                  PS       3.2326902       0.2335302      13.8427050       0.0000000\n",
      "              lambda       2.6299680       0.2476849      10.6181995       0.0000000\n",
      "              sig2_u       0.3404268       0.0158152      21.5253190       0.0000000\n",
      "------------------------------------------------------------------------------------\n",
      "================================ END OF REPORT =====================================\n"
     ]
    }
   ],
   "source": [
    "print(model.summary)"
   ]
  },
  {
   "cell_type": "code",
   "execution_count": 20,
   "metadata": {},
   "outputs": [
    {
     "data": {
      "text/plain": [
       "array([[5.8789],\n",
       "       [3.2327],\n",
       "       [2.63  ],\n",
       "       [0.3404],\n",
       "       [4.9782]])"
      ]
     },
     "execution_count": 20,
     "metadata": {},
     "output_type": "execute_result"
    }
   ],
   "source": [
    "np.around(model.betas, decimals=4)"
   ]
  },
  {
   "cell_type": "code",
   "execution_count": 16,
   "metadata": {},
   "outputs": [
    {
     "data": {
      "text/plain": [
       "-7304.090400252789"
      ]
     },
     "execution_count": 16,
     "metadata": {},
     "output_type": "execute_result"
    }
   ],
   "source": [
    "model.logll"
   ]
  },
  {
   "cell_type": "code",
   "execution_count": 17,
   "metadata": {},
   "outputs": [
    {
     "data": {
      "text/plain": [
       "14612.180800505577"
      ]
     },
     "execution_count": 17,
     "metadata": {},
     "output_type": "execute_result"
    }
   ],
   "source": [
    "model.aic"
   ]
  },
  {
   "cell_type": "code",
   "execution_count": 18,
   "metadata": {},
   "outputs": [
    {
     "data": {
      "text/plain": [
       "14622.215812791459"
      ]
     },
     "execution_count": 18,
     "metadata": {},
     "output_type": "execute_result"
    }
   ],
   "source": [
    "model.schwarz"
   ]
  },
  {
   "cell_type": "markdown",
   "metadata": {},
   "source": [
    "Write data to use it in R."
   ]
  },
  {
   "cell_type": "code",
   "execution_count": 3,
   "metadata": {},
   "outputs": [
    {
     "name": "stdout",
     "output_type": "stream",
     "text": [
      "Warning: Assuming panel is in wide format, i.e. y[:, 0] refers to T0, y[:, 1] refers to T1, etc.\n",
      "Similarly, assuming x[:, 0:T] refers to T periods of k1, x[:, T+1:2T] refers to k2, etc.\n"
     ]
    }
   ],
   "source": [
    "# pd.DataFrame(w.full()[0]).to_csv(\"data/sub_NAT_w.csv\", index=False, header=False)\n",
    "# y, x, name_y, name_x = spreg.panel_utils.check_panel(y, x, w, name_y, name_x)\n",
    "# db_reg = pd.DataFrame(np.hstack((y, x)), columns=[\"HR\", \"RD\", \"PS\"])\n",
    "# db_reg[\"YEAR\"] = np.repeat(np.array([1, 2, 3]), 372)\n",
    "# db_reg[\"FIPSNO\"] = np.tile(subid, reps=3)\n",
    "# db_reg.to_csv(\"data/sub_NAT.csv\", index=False)"
   ]
  },
  {
   "cell_type": "markdown",
   "metadata": {},
   "source": [
    "## splm"
   ]
  },
  {
   "cell_type": "code",
   "execution_count": 1,
   "metadata": {},
   "outputs": [
    {
     "name": "stderr",
     "output_type": "stream",
     "text": [
      "Loading required package: spdep\n",
      "\n",
      "Loading required package: sp\n",
      "\n",
      "Loading required package: spData\n",
      "\n",
      "To access larger datasets in this package, install the\n",
      "spDataLarge package with: `install.packages('spDataLarge',\n",
      "repos='https://nowosad.github.io/drat/', type='source')`\n",
      "\n",
      "Loading required package: sf\n",
      "\n",
      "Linking to GEOS 3.8.0, GDAL 3.0.4, PROJ 6.3.1\n",
      "\n"
     ]
    }
   ],
   "source": [
    "### set options\n",
    "options(prompt = \"R> \",  continue = \"+ \", width = 70, useFancyQuotes = FALSE, warn = -1)\n",
    "\n",
    "### load library\n",
    "library(\"splm\")"
   ]
  },
  {
   "cell_type": "code",
   "execution_count": 2,
   "metadata": {},
   "outputs": [],
   "source": [
    "## read data\n",
    "nat <- read.csv(\"data/sub_NAT.csv\", header = TRUE)\n",
    "## set formula\n",
    "fm <- HR ~ RD + PS\n",
    "wnat <- as.matrix(read.csv(\"data/sub_NAT_w.csv\", header = FALSE))\n",
    "## standardization\n",
    "wnat <- wnat/apply(wnat, 1, sum)\n",
    "## make it a listw\n",
    "lwnat <- mat2listw(wnat)"
   ]
  },
  {
   "cell_type": "code",
   "execution_count": 3,
   "metadata": {},
   "outputs": [],
   "source": [
    "col_order <- c(\"FIPSNO\", \"YEAR\", \"HR\", \"RD\", \"PS\")\n",
    "nat <- nat[, col_order]"
   ]
  },
  {
   "cell_type": "code",
   "execution_count": 4,
   "metadata": {},
   "outputs": [],
   "source": [
    "random_error = spml(HR ~ RD + PS, data=nat, listw=lwnat, effect=\"individual\",\n",
    "                 model=\"random\", spatial.error=\"b\", lag=FALSE)"
   ]
  },
  {
   "cell_type": "code",
   "execution_count": 5,
   "metadata": {},
   "outputs": [
    {
     "data": {
      "text/plain": [
       "ML panel with , random effects, spatial error correlation \n",
       "\n",
       "Call:\n",
       "spreml(formula = formula, data = data, index = index, w = listw2mat(listw), \n",
       "    w2 = listw2mat(listw2), lag = lag, errors = errors, cl = cl)\n",
       "\n",
       "Residuals:\n",
       "   Min. 1st Qu.  Median    Mean 3rd Qu.    Max. \n",
       "-10.940  -3.157  -0.869  -0.012   2.147  36.150 \n",
       "\n",
       "Error variance parameters:\n",
       "    Estimate Std. Error t-value  Pr(>|t|)    \n",
       "phi 0.304972   0.060005  5.0825 3.725e-07 ***\n",
       "rho 0.347149   0.047581  7.2960 2.964e-13 ***\n",
       "\n",
       "Coefficients:\n",
       "            Estimate Std. Error t-value  Pr(>|t|)    \n",
       "(Intercept)  5.87150    0.22920  25.617 < 2.2e-16 ***\n",
       "RD           3.22219    0.23425  13.755 < 2.2e-16 ***\n",
       "PS           2.60396    0.24820  10.491 < 2.2e-16 ***\n",
       "---\n",
       "Signif. codes:  0 '***' 0.001 '**' 0.01 '*' 0.05 '.' 0.1 ' ' 1\n"
      ]
     },
     "metadata": {},
     "output_type": "display_data"
    }
   ],
   "source": [
    "summary(random_error)"
   ]
  },
  {
   "cell_type": "code",
   "execution_count": 9,
   "metadata": {},
   "outputs": [
    {
     "data": {
      "text/html": [
       "<table>\n",
       "<caption>A matrix: 3 × 3 of type dbl</caption>\n",
       "<thead>\n",
       "\t<tr><th></th><th scope=col>(Intercept)</th><th scope=col>RD</th><th scope=col>PS</th></tr>\n",
       "</thead>\n",
       "<tbody>\n",
       "\t<tr><th scope=row>(Intercept)</th><td> 0.034754804</td><td>-0.0021053688</td><td>0.0155846231</td></tr>\n",
       "\t<tr><th scope=row>RD</th><td>-0.002105369</td><td> 0.0428358261</td><td>0.0008535634</td></tr>\n",
       "\t<tr><th scope=row>PS</th><td> 0.015584623</td><td> 0.0008535634</td><td>0.0533123892</td></tr>\n",
       "</tbody>\n",
       "</table>\n"
      ],
      "text/latex": [
       "A matrix: 3 × 3 of type dbl\n",
       "\\begin{tabular}{r|lll}\n",
       "  & (Intercept) & RD & PS\\\\\n",
       "\\hline\n",
       "\t(Intercept) &  0.034754804 & -0.0021053688 & 0.0155846231\\\\\n",
       "\tRD & -0.002105369 &  0.0428358261 & 0.0008535634\\\\\n",
       "\tPS &  0.015584623 &  0.0008535634 & 0.0533123892\\\\\n",
       "\\end{tabular}\n"
      ],
      "text/markdown": [
       "\n",
       "A matrix: 3 × 3 of type dbl\n",
       "\n",
       "| <!--/--> | (Intercept) | RD | PS |\n",
       "|---|---|---|---|\n",
       "| (Intercept) |  0.034754804 | -0.0021053688 | 0.0155846231 |\n",
       "| RD | -0.002105369 |  0.0428358261 | 0.0008535634 |\n",
       "| PS |  0.015584623 |  0.0008535634 | 0.0533123892 |\n",
       "\n"
      ],
      "text/plain": [
       "            (Intercept)  RD            PS          \n",
       "(Intercept)  0.034754804 -0.0021053688 0.0155846231\n",
       "RD          -0.002105369  0.0428358261 0.0008535634\n",
       "PS           0.015584623  0.0008535634 0.0533123892"
      ]
     },
     "metadata": {},
     "output_type": "display_data"
    }
   ],
   "source": [
    "fixed_error$vcov"
   ]
  },
  {
   "cell_type": "code",
   "execution_count": 10,
   "metadata": {},
   "outputs": [
    {
     "data": {
      "text/html": [
       "-3268.79252267922"
      ],
      "text/latex": [
       "-3268.79252267922"
      ],
      "text/markdown": [
       "-3268.79252267922"
      ],
      "text/plain": [
       "[1] -3268.793"
      ]
     },
     "metadata": {},
     "output_type": "display_data"
    }
   ],
   "source": [
    "fixed_error$logLik"
   ]
  },
  {
   "cell_type": "code",
   "execution_count": 11,
   "metadata": {},
   "outputs": [
    {
     "data": {
      "text/html": [
       "<style>\n",
       ".dl-inline {width: auto; margin:0; padding: 0}\n",
       ".dl-inline>dt, .dl-inline>dd {float: none; width: auto; display: inline-block}\n",
       ".dl-inline>dt::after {content: \":\\0020\"; padding-right: .5ex}\n",
       ".dl-inline>dt:not(:first-of-type) {padding-left: .5ex}\n",
       "</style><dl class=dl-inline><dt>(Intercept)</dt><dd>4.4442198986205</dd><dt>RD</dt><dd>2.52821719796491</dd><dt>PS</dt><dd>2.24768845765985</dd></dl>\n"
      ],
      "text/latex": [
       "\\begin{description*}\n",
       "\\item[(Intercept)] 4.4442198986205\n",
       "\\item[RD] 2.52821719796491\n",
       "\\item[PS] 2.24768845765985\n",
       "\\end{description*}\n"
      ],
      "text/markdown": [
       "(Intercept)\n",
       ":   4.4442198986205RD\n",
       ":   2.52821719796491PS\n",
       ":   2.24768845765985\n",
       "\n"
      ],
      "text/plain": [
       "(Intercept)          RD          PS \n",
       "   4.444220    2.528217    2.247688 "
      ]
     },
     "metadata": {},
     "output_type": "display_data"
    }
   ],
   "source": [
    "fixed_error$coefficients"
   ]
  },
  {
   "cell_type": "code",
   "execution_count": 20,
   "metadata": {},
   "outputs": [
    {
     "data": {
      "text/plain": [
       "array([[5.8789],\n",
       "       [3.2327],\n",
       "       [2.63  ],\n",
       "       [0.3404],\n",
       "       [4.9782]])"
      ]
     },
     "execution_count": 20,
     "metadata": {},
     "output_type": "execute_result"
    }
   ],
   "source": [
    "np.around(model.betas, decimals=4)"
   ]
  },
  {
   "cell_type": "code",
   "execution_count": 21,
   "metadata": {},
   "outputs": [
    {
     "data": {
      "text/plain": [
       "array([[ 0.05163595, -0.00234706,  0.01798597,  0.        ,  0.        ],\n",
       "       [-0.00234706,  0.05453637,  0.00263128,  0.        ,  0.        ],\n",
       "       [ 0.01798597,  0.00263128,  0.06134783,  0.        ,  0.        ],\n",
       "       [ 0.        ,  0.        ,  0.        ,  0.00025012, -0.00000068],\n",
       "       [ 0.        ,  0.        ,  0.        , -0.00000068,  0.0030366 ]])"
      ]
     },
     "execution_count": 21,
     "metadata": {},
     "output_type": "execute_result"
    }
   ],
   "source": [
    "np.around(model.vm, decimals=8)"
   ]
  },
  {
   "cell_type": "code",
   "execution_count": 26,
   "metadata": {},
   "outputs": [
    {
     "data": {
      "text/plain": [
       "0.30916330072300396"
      ]
     },
     "execution_count": 26,
     "metadata": {},
     "output_type": "execute_result"
    }
   ],
   "source": [
    "model.betas[4][0] / model.sig2[0][0]"
   ]
  },
  {
   "cell_type": "code",
   "execution_count": 29,
   "metadata": {},
   "outputs": [
    {
     "data": {
      "text/plain": [
       "array([0.29552935, 0.22875307, 0.24112304, 0.04059436])"
      ]
     },
     "execution_count": 29,
     "metadata": {},
     "output_type": "execute_result"
    }
   ],
   "source": [
    "model.std_err"
   ]
  },
  {
   "cell_type": "code",
   "execution_count": 30,
   "metadata": {},
   "outputs": [
    {
     "data": {
      "text/plain": [
       "-3127.652781115621"
      ]
     },
     "execution_count": 30,
     "metadata": {},
     "output_type": "execute_result"
    }
   ],
   "source": [
    "model.logll"
   ]
  },
  {
   "cell_type": "code",
   "execution_count": null,
   "metadata": {},
   "outputs": [],
   "source": []
  }
 ],
 "metadata": {
  "kernelspec": {
   "display_name": "Python 3",
   "language": "python",
   "name": "python3"
  },
  "language_info": {
   "codemirror_mode": {
    "name": "ipython",
    "version": 3
   },
   "file_extension": ".py",
   "mimetype": "text/x-python",
   "name": "python",
   "nbconvert_exporter": "python",
   "pygments_lexer": "ipython3",
   "version": "3.7.6"
  }
 },
 "nbformat": 4,
 "nbformat_minor": 4
}
